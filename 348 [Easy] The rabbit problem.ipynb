{
 "cells": [
  {
   "cell_type": "code",
   "execution_count": 6,
   "metadata": {},
   "outputs": [
    {
     "name": "stdout",
     "output_type": "stream",
     "text": [
      "1 loop, best of 1: 7.05 ms per loop\n",
      "1 loop, best of 1: 1.52 ms per loop\n"
     ]
    }
   ],
   "source": [
    "import numpy as np\n",
    "\n",
    "def rabbits(males,females,target):\n",
    "    '''Conquer the world before the elders die'''\n",
    "    adult = np.array([0,0])\n",
    "    youth = np.zeros([2,4])\n",
    "    youth[:,1] = np.array([males,females])\n",
    "    alive = males + females\n",
    "    growth = np.array([9,5])\n",
    "    months = 0\n",
    "    while alive < target:\n",
    "        months += 1\n",
    "        youth[:,0] = growth * adult[1]\n",
    "        alive += sum(youth[:,0])\n",
    "        youth[:,1:], adult = youth[:,:-1], adult + youth[:,-1]\n",
    "    return 'World domination achieved in {} months.'.format(months)\n",
    "    \n",
    "def dash_the_humans(humans,weight_human=65,weight_rabbit=0.5):\n",
    "    '''Flatten humans by furry zerlings'''\n",
    "    return (humans * weight_human / weight_rabbit) * 100\n",
    "\n",
    "%timeit -n1 -r1 rabbits(2,4,dash_the_humans(7.3 * 10**9))\n",
    "%timeit -n1 -r1 rabbits(2,4,1_000_000_000)"
   ]
  },
  {
   "cell_type": "code",
   "execution_count": 9,
   "metadata": {},
   "outputs": [
    {
     "name": "stdout",
     "output_type": "stream",
     "text": [
      "1 loop, best of 1: 484 µs per loop\n"
     ]
    }
   ],
   "source": [
    "def do():\n",
    "    bun_m, bun_f = [[0 for x in range(96)] for i in range(2)]\n",
    "    bun_m[2], bun_f[2] = 2, 4\n",
    "    count = 0\n",
    "\n",
    "    while sum(bun_f) + sum(bun_m) < 1_000_000_000:\n",
    "        new_b = sum(bun_f[4:])\n",
    "        bun_f = [9*new_b] + bun_f[:-1]\n",
    "        bun_m = [5*new_b] + bun_m[:-1]\n",
    "        count += 1\n",
    "    return count\n",
    "%timeit -n1 -r1 do()"
   ]
  },
  {
   "cell_type": "code",
   "execution_count": null,
   "metadata": {
    "collapsed": true
   },
   "outputs": [],
   "source": [
    "bun_m, bun_f = [[0 for x in range(96)] for i in range(2)]\n",
    "bun_m[2], bun_f[2] = 2, 4\n",
    "count = 0\n",
    "\n",
    "while sum(bun_f) + sum(bun_m) < 1_000_000_000:\n",
    "    new_b = sum(bun_f[4:])\n",
    "    bun_f = [9*new_b] + bun_f[:-1]\n",
    "    bun_m = [5*new_b] + bun_m[:-1]\n",
    "    count += 1\n",
    "print(count)"
   ]
  }
 ],
 "metadata": {
  "kernelspec": {
   "display_name": "Python 3",
   "language": "python",
   "name": "python3"
  },
  "language_info": {
   "codemirror_mode": {
    "name": "ipython",
    "version": 3
   },
   "file_extension": ".py",
   "mimetype": "text/x-python",
   "name": "python",
   "nbconvert_exporter": "python",
   "pygments_lexer": "ipython3",
   "version": "3.6.1"
  }
 },
 "nbformat": 4,
 "nbformat_minor": 2
}
