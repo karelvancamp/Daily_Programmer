{
 "cells": [
  {
   "cell_type": "code",
   "execution_count": 9,
   "metadata": {},
   "outputs": [
    {
     "name": "stdout",
     "output_type": "stream",
     "text": [
      "1 loop, best of 3: 19.8 ms per loop\n"
     ]
    }
   ],
   "source": [
    "from collections import defaultdict\n",
    "\n",
    "def repeat(inx):\n",
    "    s_inx = inx\n",
    "    l_inx = len(s_inx)\n",
    "    answer = defaultdict(int)\n",
    "    \n",
    "    for x in range(0,l_inx-1):\n",
    "        for y in range(x+2,l_inx+1):\n",
    "            answer[s_inx[x:y]] += 1\n",
    "    answered = ' '.join(x+':'+str(y) for x,y in answer.items() if y > 1)\n",
    "    if answered:\n",
    "        return answered\n",
    "    return 0\n",
    "\n",
    "%timeit -n1 repeat('1111101111011101111111011110111011111110111101110111111101111011101111111011110111011111110111101110111111101111011101111111011110111011')\n",
    "    "
   ]
  },
  {
   "cell_type": "markdown",
   "metadata": {
    "collapsed": true
   },
   "source": [
    "If the \"9898\" at the end was missing, you wouldn't report the 98 in 987."
   ]
  },
  {
   "cell_type": "code",
   "execution_count": 10,
   "metadata": {},
   "outputs": [
    {
     "name": "stdout",
     "output_type": "stream",
     "text": [
      "1 loop, best of 3: 20.1 ms per loop\n"
     ]
    }
   ],
   "source": [
    "def emplace(numString, numDict):\n",
    "    if numString in numDict:\n",
    "        numDict[numString] += 1\n",
    "    else:\n",
    "        numDict[numString] = 1\n",
    "\n",
    "def dupe_search(subWidth, string, numDict):\n",
    "    for n in range(len(string) - subWidth + 1):\n",
    "        emplace(string[n:n+subWidth], numDict)\n",
    "\n",
    "def get_dupe_string(string, minWidth=2):\n",
    "    numbers = {}\n",
    "    for n in range(\n",
    "                    len(string)-1,\n",
    "                    minWidth-1,\n",
    "                    -1 #step backwards\n",
    "                   ):\n",
    "        dupe_search(n, string, numbers)\n",
    "\n",
    "    dupeString = ''\n",
    "    for num in numbers:\n",
    "        if numbers[num] > 1:\n",
    "            dupeString += f\"{num}:{numbers[num]} \"\n",
    "\n",
    "    return dupeString\n",
    "\n",
    "%timeit -n1 get_dupe_string('1111101111011101111111011110111011111110111101110111111101111011101111111011110111011111110111101110111111101111011101111111011110111011')\n",
    "    \n"
   ]
  },
  {
   "cell_type": "code",
   "execution_count": 6,
   "metadata": {},
   "outputs": [
    {
     "name": "stdout",
     "output_type": "stream",
     "text": [
      "100 loops, best of 3: 7.07 ms per loop\n"
     ]
    }
   ],
   "source": [
    "from collections import Counter\n",
    "from itertools import islice, tee\n",
    "\n",
    "def z(inx):\n",
    "    num = inx\n",
    "\n",
    "    consume = lambda x, n: next(islice(x, n, n), None)\n",
    "    \n",
    "    allcounts = {}\n",
    "    for slen in range(2, len(num)//2):\n",
    "        starts = tee(num, slen)\n",
    "        _ = [consume(istart, i) for i, istart in enumerate(starts)]\n",
    "        counts = Counter(''.join(x) for x in zip(*starts))\n",
    "        counts = {inum: icount for inum, icount in counts.items() if icount > 1}\n",
    "        allcounts.update(counts)\n",
    "    \n",
    "    if allcounts:\n",
    "        return list(('{}: {}'.format(x, y) for x, y in allcounts.items()))\n",
    "    else:\n",
    "        return 0\n",
    "    \n",
    "%timeit z('11111011110111011111110111101110111111101111011101111111011110111011')"
   ]
  },
  {
   "cell_type": "code",
   "execution_count": null,
   "metadata": {
    "collapsed": true
   },
   "outputs": [],
   "source": []
  }
 ],
 "metadata": {
  "kernelspec": {
   "display_name": "Python 3",
   "language": "python",
   "name": "python3"
  }
 },
 "nbformat": 4,
 "nbformat_minor": 2
}
