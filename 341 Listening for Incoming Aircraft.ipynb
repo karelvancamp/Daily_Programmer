{
 "cells": [
  {
   "cell_type": "code",
   "execution_count": 59,
   "metadata": {},
   "outputs": [
    {
     "name": "stdout",
     "output_type": "stream",
     "text": [
      "2.92516950991\n",
      "(7.838407443735063, 17.605351367473496)\n",
      "8.06607166578\n",
      "('Invalid Target', 2.8818233020672115, 1.0)\n",
      "2.04543384165\n",
      "(6.0351055870837875, 10.08392662879341)\n"
     ]
    }
   ],
   "source": [
    "from math import tan,radians\n",
    "import numpy as np\n",
    "\n",
    "def rad(degree):\n",
    "    return radians(-degree+90)\n",
    "\n",
    "def cartesian_direction(degree):\n",
    "    x_grows = bool(degree%360 <= 180)\n",
    "    y_grows = bool((degree+90)%360 <= 180)\n",
    "    return (x_grows,y_grows)\n",
    "\n",
    "def intersection_lines(a,b):\n",
    "\n",
    "    x1,y1,d1 = a\n",
    "    x2,y2,d2 = b\n",
    "\n",
    "    # check for parallel lines\n",
    "    if not (d1-d2)%180:\n",
    "        return 'Out of range'\n",
    "\n",
    "    r1,r2 = map(rad,[d1,d2])\n",
    "    c1,c2 = map(tan,[r1,r2])\n",
    "    \n",
    "    if abs(d1) < 2**-8:\n",
    "        c1 = 0\n",
    "    if abs(d2) < 2**-8:\n",
    "        c2 = 0\n",
    "\n",
    "    lin_v = np.array([[c1,-1],[c2,-1]])\n",
    "    lin_c = np.array([c1*x1-y1,c2*x2-y2])\n",
    "       \n",
    "    lin_solution = np.linalg.solve(lin_v, lin_c)\n",
    "    \n",
    "    print(np.linalg.cond(lin_v))\n",
    "\n",
    "    \n",
    "    # check if line segments rather than lines intersect\n",
    "    x3,y3 = lin_solution\n",
    "    cosi1,cosi2 = map(cartesian_direction,[d1,d2])\n",
    "    if ((x1<=x3),(y1<=y3)) == cosi1 and ((x2<=x3),(y2<=y3)) == cosi2:\n",
    "        return x3,y3\n",
    "\n",
    "    return 'Invalid Target',x3,y3\n",
    "    \n",
    "\n",
    "tasks = [((0,0,24),(11,7,343.4)),\n",
    "         ((10,1,0.0),(2,8,352.82)),\n",
    "         ((0,0,30.9),(10,1,336.42))]\n",
    "\n",
    "for x in tasks:\n",
    "    print(intersection_lines(*x))\n"
   ]
  },
  {
   "cell_type": "code",
   "execution_count": 50,
   "metadata": {},
   "outputs": [
    {
     "data": {
      "text/plain": [
       "1.633123935319537e+16"
      ]
     },
     "execution_count": 50,
     "metadata": {},
     "output_type": "execute_result"
    }
   ],
   "source": [
    "math.tan(math.pi/2)"
   ]
  }
 ],
 "metadata": {
  "kernelspec": {
   "display_name": "Python 3",
   "language": "python",
   "name": "python3"
  },
  "language_info": {
   "codemirror_mode": {
    "name": "ipython",
    "version": 3
   },
   "file_extension": ".py",
   "mimetype": "text/x-python",
   "name": "python",
   "nbconvert_exporter": "python",
   "pygments_lexer": "ipython3",
   "version": "3.6.1"
  }
 },
 "nbformat": 4,
 "nbformat_minor": 2
}
