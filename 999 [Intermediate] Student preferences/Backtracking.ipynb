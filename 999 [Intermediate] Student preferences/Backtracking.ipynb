{
 "cells": [
  {
   "cell_type": "markdown",
   "metadata": {},
   "source": [
    "# Problem:\n",
    "    \n",
    "    I am a teacher and every year we have overnight excursions where we have to organize rooms for around 100 students.\n",
    "    However there are a number of requirements when organise these rooms:\n",
    "\n",
    "    Boys and girls MUST be in seperate rooms\n",
    "    Room sizes and amount of rooms will vary. e.g. \n",
    "    This year we might have 4x '5 bed' rooms and 7x '4 bed' rooms, however, \n",
    "    we may have restrictions on this so all the boys rooms are together etc..\n",
    "    Each student allocates 3 students they would like to share with,\n",
    "    and we promise to get them at least 1 of their friends.\n"
   ]
  },
  {
   "cell_type": "markdown",
   "metadata": {},
   "source": [
    "# Solution:\n",
    "\n",
    "## Considerations:\n",
    "    Every room will contain at least 1 strongly connected component (SCC) with 2 or more elements,\n",
    "    otherwise it's impossible to have a valid room.\n",
    "    This SCC serves as central node with possible other nodes pointing towards it in treelike branches \n",
    "    It is possible there is more than one SCC in a room\n",
    "        \n",
    "    Also, consider the possible forms of SCC. \n",
    "    These will often contain cliques of size 2,3 or 4. \n",
    "    For example when 4 friends all choose each other, they form a clique of 4.\n",
    "    This group could be unconnected to the general graph.\n",
    "        \n",
    "    In theory this problem could lack a solution. \n",
    "    In practice there will be always be many close friends who pick eachother.\n",
    "    These can be used to seed to trees as needed.\n",
    "    \n",
    "## First approach: brute force\n",
    "    Only feasible for very small problem sizes, \n",
    "       \n",
    "## Second approach: backtracking    \n",
    "    Fill each room at random using chaining on preferences.\n",
    "    (this disregards some possibilities as it prevents multiple SCC hubs)\n",
    "    When a room is full, check if last element if connected to any other\n",
    "    if so: explore next room\n",
    "    else: close branch\n",
    "        \n",
    "    For all valid solutions, calculate a solution value, this can be used to find the optimal solutions.\n",
    "        \n",
    "## Third approach: backtracking corrected\n",
    "    The previous approach lifts out the chaining, due to the possible existinence of isolated cliques of size 4.\n",
    "    So chaining preferences should be ignored, and only checked when the room is full.\n",
    "        \n",
    "## Fourth approach: graph backtracking\n",
    "    Each room should contains at least 1 hub. \n",
    "    So use this as a seed, than grow tree inside room backwards. \n",
    "    \n",
    "    If during backtracking a room is left unfilled, seed with a new hub if possible. \n",
    "    \n",
    "    \n",
    "## Fifth approach: graph heuristic\n",
    "    As the problem size = 100\n"
   ]
  },
  {
   "cell_type": "code",
   "execution_count": 506,
   "metadata": {
    "collapsed": true
   },
   "outputs": [],
   "source": [
    "# choose number of students\n",
    "\n",
    "number = 10"
   ]
  },
  {
   "cell_type": "code",
   "execution_count": 510,
   "metadata": {
    "collapsed": true
   },
   "outputs": [],
   "source": [
    "# python 3.6\n",
    "\n",
    "from random import sample,randint\n",
    "from collections import defaultdict"
   ]
  },
  {
   "cell_type": "markdown",
   "metadata": {},
   "source": [
    "# Third approach: backtracking corrected"
   ]
  },
  {
   "cell_type": "code",
   "execution_count": 508,
   "metadata": {},
   "outputs": [
    {
     "data": {
      "text/plain": [
       "(defaultdict(None,\n",
       "             {0: {1, 6, 8},\n",
       "              1: {5, 6, 9},\n",
       "              2: {1, 8, 9},\n",
       "              3: {0, 2, 4},\n",
       "              4: {0, 1, 2},\n",
       "              5: {7, 8, 9},\n",
       "              6: {0, 2, 5},\n",
       "              7: {2, 3, 9},\n",
       "              8: {0, 1, 7},\n",
       "              9: {3, 6, 7}}),\n",
       " [4, 3, 3])"
      ]
     },
     "execution_count": 508,
     "metadata": {},
     "output_type": "execute_result"
    }
   ],
   "source": [
    "'''Prepare data'''\n",
    "\n",
    "## student and preferences\n",
    "\n",
    "students = [x for x in range(number)]\n",
    "student = defaultdict()\n",
    "for x in range(number):\n",
    "    student[x] = set(sample([y for y in range(number) if y != x],3))\n",
    "    \n",
    "## rooms   \n",
    "\n",
    "def generate_rooms(size):\n",
    "    if size < 4:\n",
    "        return [size]\n",
    "    else:\n",
    "        c = randint(2,size//2)\n",
    "        return [c,*generate_rooms(size-c)]   \n",
    "\n",
    "## auxilary list for slicing\n",
    "    \n",
    "def cumul(rooms):\n",
    "    cumul_rooms = []\n",
    "    for ix,x in enumerate(rooms):\n",
    "        if not ix:\n",
    "            cumul_rooms.append(x)\n",
    "        else:\n",
    "            cumul_rooms.append(x+cumul_rooms[-1])\n",
    "    return cumul_rooms\n",
    "\n",
    "rooms = generate_rooms(number)\n",
    "cumul_rooms = cumul(rooms)\n",
    "\n",
    "student, rooms"
   ]
  },
  {
   "cell_type": "code",
   "execution_count": 509,
   "metadata": {},
   "outputs": [
    {
     "name": "stdout",
     "output_type": "stream",
     "text": [
      "[(0, 3, 4, 6), (2, 7, 9), (1, 5, 8)] 12\n",
      "[(0, 3, 4, 8), (1, 2, 6), (5, 7, 9)] 12\n",
      "[(1, 2, 3, 6), (0, 4, 8), (5, 7, 9)] 11\n",
      "[(1, 2, 4, 6), (0, 3, 8), (5, 7, 9)] 12\n",
      "[(1, 4, 5, 8), (0, 3, 6), (2, 7, 9)] 11\n",
      "[(2, 3, 7, 9), (0, 4, 6), (1, 5, 8)] 13\n",
      "[(2, 4, 7, 9), (1, 5, 8), (0, 3, 6)] 11\n"
     ]
    },
    {
     "data": {
      "text/plain": [
       "(defaultdict(None,\n",
       "             {0: {1, 6, 8},\n",
       "              1: {5, 6, 9},\n",
       "              2: {1, 8, 9},\n",
       "              3: {0, 2, 4},\n",
       "              4: {0, 1, 2},\n",
       "              5: {7, 8, 9},\n",
       "              6: {0, 2, 5},\n",
       "              7: {2, 3, 9},\n",
       "              8: {0, 1, 7},\n",
       "              9: {3, 6, 7}}),\n",
       " [4, 3, 3])"
      ]
     },
     "execution_count": 509,
     "metadata": {},
     "output_type": "execute_result"
    }
   ],
   "source": [
    "'''Backtracking with constraints'''\n",
    "        \n",
    "def swap(a, i, j):\n",
    "    a[i], a[j] = a[j], a[i]\n",
    "\n",
    "def check_room(a, i):\n",
    "\n",
    "    room_nok = False\n",
    "    index = cumul_rooms.index(i)\n",
    "    for student_in_room in a[i-rooms[index]:i]:\n",
    "        a_student_ok = False\n",
    "        for friend in student[student_in_room]:\n",
    "            if friend in a[i-rooms[index]:i]:\n",
    "                a_student_ok = True\n",
    "                break\n",
    "        if not a_student_ok:\n",
    "            room_nok = True\n",
    "            break\n",
    "    return room_nok\n",
    "\n",
    "   \n",
    "def permute(a, i, n, solutions = set()):\n",
    "    \n",
    "    if i in cumul_rooms:\n",
    "        if check_room(a, i):\n",
    "            return\n",
    "        \n",
    "        elif i == n: \n",
    "            \n",
    "            # translate the list 'a' into sorted rooms\n",
    "            show_rooms = []\n",
    "            for ix,x in enumerate(cumul_rooms):\n",
    "                if not ix:\n",
    "                    show_rooms.append(tuple(sorted(a[0:x])))\n",
    "                else:\n",
    "                    show_rooms.append(tuple(sorted(a[cumul_rooms[ix-1]:x]))) \n",
    "            a_solution = tuple(sorted(show_rooms))\n",
    "              \n",
    "            if a_solution not in solutions:\n",
    "    \n",
    "                # value of solution, enables choosing best one\n",
    "                value = 0\n",
    "                for x in show_rooms:\n",
    "                    for y in x:\n",
    "                        for z in student[y]:\n",
    "                            if z in x:\n",
    "                                value += 1\n",
    "                solutions.add(a_solution)\n",
    "                print(show_rooms,value) \n",
    "                \n",
    "            return solutions\n",
    "            \n",
    "    # backtracking\n",
    "    for j in range(i, n):\n",
    "        swap(a, i, j)\n",
    "        permute(a, i+1, n)\n",
    "        swap(a, i, j)  \n",
    "\n",
    "permute(students, 0, len(students))\n",
    "student,rooms"
   ]
  },
  {
   "cell_type": "code",
   "execution_count": null,
   "metadata": {
    "collapsed": true
   },
   "outputs": [],
   "source": []
  }
 ],
 "metadata": {
  "kernelspec": {
   "display_name": "Python 3",
   "language": "python",
   "name": "python3"
  },
  "language_info": {
   "codemirror_mode": {
    "name": "ipython",
    "version": 3
   },
   "file_extension": ".py",
   "mimetype": "text/x-python",
   "name": "python",
   "nbconvert_exporter": "python",
   "pygments_lexer": "ipython3",
   "version": "3.6.1"
  }
 },
 "nbformat": 4,
 "nbformat_minor": 2
}
