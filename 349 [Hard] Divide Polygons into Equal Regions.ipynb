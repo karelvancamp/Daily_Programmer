{
 "cells": [
  {
   "cell_type": "markdown",
   "metadata": {},
   "source": [
    "    no bonus\n",
    "\n",
    "add point, connect to H hull nodes, creating regions\n",
    "\n",
    "define volume of region\n",
    "define cost as difference between volumes and total volume / N\n",
    "if H < N, for H-N, cost is volume\n",
    "\n",
    "use multi variate gradient descent to minimize cost\n",
    "\n",
    "if total cost = 0 at minimum, return point\n",
    "else try N-1\n",
    "\n",
    "    bonus\n",
    "generalise space_volume (using matrix determinants?)\n",
    "\n",
    "    bonus++\n",
    "linear programming?"
   ]
  },
  {
   "cell_type": "code",
   "execution_count": 569,
   "metadata": {},
   "outputs": [],
   "source": [
    "inx = '3 \\n(0 0)(0 1)(1 1)(1 0)\\n(1 2)(2 3)(3 4)(4 1)'\n",
    "iny = '5\\n(1 0)(0 1)(0 2)(1 3)(2 1)\\n(1 2)(2 3)(3 4)(4 5)(5 1)'"
   ]
  },
  {
   "cell_type": "code",
   "execution_count": 574,
   "metadata": {},
   "outputs": [
    {
     "name": "stdout",
     "output_type": "stream",
     "text": [
      "3 \n",
      "(0 0)(0 1)(1 1)(1 0)\n",
      "(1 2)(2 3)(3 4)(4 1)\n"
     ]
    },
    {
     "data": {
      "image/png": "[encoded data removed]",
      "text/plain": [
       "<matplotlib.figure.Figure at 0x23759dd7630>"
      ]
     },
     "metadata": {},
     "output_type": "display_data"
    }
   ],
   "source": [
    "import numpy as np\n",
    "from matplotlib.patches import Polygon\n",
    "from matplotlib.collections import PatchCollection\n",
    "import matplotlib.pyplot as plt\n",
    "\n",
    "def prep_data(inx):\n",
    "    print(inx)\n",
    "    a = inx.replace(')',';').replace('(','').split('\\n')\n",
    "    regions = int(a[0])\n",
    "    nodes = [[float(y) for y in x.split(' ') if y] for x in a[1].split(';') if x]\n",
    "    return regions,np.array(nodes)\n",
    "\n",
    "def volume(triangle):\n",
    "    b = triangle[1:] - triangle[0]\n",
    "    return abs(np.linalg.det(b))/2\n",
    "\n",
    "def total_volume(nodes):\n",
    "    first = nodes[0]\n",
    "    total = 0\n",
    "    for x,y in zip(nodes[1:],nodes[2:]):\n",
    "        total += volume((x,y,first))\n",
    "    return total\n",
    "\n",
    "def n_sect_2D(nodes,regions,region_v):\n",
    "    first = nodes[0]\n",
    "    a = nodes[1]\n",
    "    b = nodes[2]\n",
    "    c = 2\n",
    "    added = []\n",
    "    regionx = []\n",
    "    while regions:\n",
    "        region = [first,a]\n",
    "        vol = volume((first,a,b)) \n",
    "        tot = vol\n",
    "        while tot < region_v: \n",
    "            c += 1\n",
    "            vol = volume((first,b,nodes[c]))\n",
    "            tot += vol\n",
    "            region.append(b)\n",
    "            a,b = b,nodes[c]\n",
    "        share = (region_v - tot + vol) /vol\n",
    "        a = a*(1-share) + b*share\n",
    "        region.append(a)\n",
    "        added.append(a)\n",
    "        regionx.append(region)\n",
    "        regions -= 1\n",
    "    return added,regionx\n",
    "\n",
    "def do(inx):\n",
    "    regions,nodes = prep_data(inx)\n",
    "    total = total_volume(nodes)\n",
    "    region_v = total/regions\n",
    "    solution,regionx = n_sect_2D(nodes,regions,region_v)\n",
    "    return regionx\n",
    "\n",
    "def plot_regions(regionx):\n",
    "    fig, ax = plt.subplots()\n",
    "    patches = []\n",
    "    for i in regionx:\n",
    "        polygon = Polygon(i, True)\n",
    "        patches.append(polygon)\n",
    "    colors = 50*np.random.rand(len(patches))\n",
    "    p = PatchCollection(patches, alpha=0.5)\n",
    "    p.set_array(np.array(colors))\n",
    "    ax.add_collection(p)\n",
    "    plt.axis('scaled')\n",
    "    plt.show()\n",
    "    \n",
    "plot_regions(do(inx))"
   ]
  },
  {
   "cell_type": "code",
   "execution_count": 578,
   "metadata": {},
   "outputs": [
    {
     "name": "stdout",
     "output_type": "stream",
     "text": [
      "5\n",
      "(1 0)(0 1)(0 2)(1 3)(2 1)\n",
      "(1 2)(2 3)(3 4)(4 5)(5 1)\n"
     ]
    },
    {
     "data": {
      "image/png": "[encoded data removed]",
      "text/plain": [
       "<matplotlib.figure.Figure at 0x23759e42550>"
      ]
     },
     "metadata": {},
     "output_type": "display_data"
    }
   ],
   "source": [
    "plot_regions(do(iny))"
   ]
  },
  {
   "cell_type": "code",
   "execution_count": null,
   "metadata": {
    "collapsed": true
   },
   "outputs": [],
   "source": []
  }
 ],
 "metadata": {
  "kernelspec": {
   "display_name": "Python 3",
   "language": "python",
   "name": "python3"
  },
  "language_info": {
   "codemirror_mode": {
    "name": "ipython",
    "version": 3
   },
   "file_extension": ".py",
   "mimetype": "text/x-python",
   "name": "python",
   "nbconvert_exporter": "python",
   "pygments_lexer": "ipython3",
   "version": "3.6.1"
  }
 },
 "nbformat": 4,
 "nbformat_minor": 2
}
