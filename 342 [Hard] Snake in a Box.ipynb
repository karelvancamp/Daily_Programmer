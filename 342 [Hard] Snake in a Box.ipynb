{
 "cells": [
  {
   "cell_type": "code",
   "execution_count": 85,
   "metadata": {},
   "outputs": [
    {
     "name": "stdout",
     "output_type": "stream",
     "text": [
      "[0] \n",
      "\n",
      "[[0 1]\n",
      " [1 0]] \n",
      "\n",
      "[[0 1 1 0]\n",
      " [1 0 0 1]\n",
      " [1 0 0 1]\n",
      " [0 1 1 0]] \n",
      "\n",
      "[[0 1 1 0 1 0 0 0]\n",
      " [1 0 0 1 0 1 0 0]\n",
      " [1 0 0 1 0 0 1 0]\n",
      " [0 1 1 0 0 0 0 1]\n",
      " [1 0 0 0 0 1 1 0]\n",
      " [0 1 0 0 1 0 0 1]\n",
      " [0 0 1 0 1 0 0 1]\n",
      " [0 0 0 1 0 1 1 0]] \n",
      "\n",
      "[[0 1 1 0 1 0 0 0 1 0 0 0 0 0 0 0]\n",
      " [1 0 0 1 0 1 0 0 0 1 0 0 0 0 0 0]\n",
      " [1 0 0 1 0 0 1 0 0 0 1 0 0 0 0 0]\n",
      " [0 1 1 0 0 0 0 1 0 0 0 1 0 0 0 0]\n",
      " [1 0 0 0 0 1 1 0 0 0 0 0 1 0 0 0]\n",
      " [0 1 0 0 1 0 0 1 0 0 0 0 0 1 0 0]\n",
      " [0 0 1 0 1 0 0 1 0 0 0 0 0 0 1 0]\n",
      " [0 0 0 1 0 1 1 0 0 0 0 0 0 0 0 1]\n",
      " [1 0 0 0 0 0 0 0 0 1 1 0 1 0 0 0]\n",
      " [0 1 0 0 0 0 0 0 1 0 0 1 0 1 0 0]\n",
      " [0 0 1 0 0 0 0 0 1 0 0 1 0 0 1 0]\n",
      " [0 0 0 1 0 0 0 0 0 1 1 0 0 0 0 1]\n",
      " [0 0 0 0 1 0 0 0 1 0 0 0 0 1 1 0]\n",
      " [0 0 0 0 0 1 0 0 0 1 0 0 1 0 0 1]\n",
      " [0 0 0 0 0 0 1 0 0 0 1 0 1 0 0 1]\n",
      " [0 0 0 0 0 0 0 1 0 0 0 1 0 1 1 0]] \n",
      "\n"
     ]
    }
   ],
   "source": [
    "import numpy as np\n",
    "\n",
    "def hypercube(n):\n",
    "    if not n:\n",
    "        return np.zeros(1,int)\n",
    "    n2 = 2**(n-1)\n",
    "    A = np.identity(n2,int)\n",
    "    B = hypercube(n-1)\n",
    "    \n",
    "    C = np.zeros((2**n,2**n),int)\n",
    "    C[:n2,:n2],C[n2:,n2:], C[:n2,n2:],C[n2:,:n2] = B,B, A,A\n",
    "    return C\n",
    "\n",
    "for x in range(5):\n",
    "    print(hypercube(x),'\\n')\n",
    "    "
   ]
  },
  {
   "cell_type": "markdown",
   "metadata": {},
   "source": [
    "    4 = 000 -> 100 -> 110 -> 111 -> 011\n",
    "    7 = 0000 -> 1000 -> 1100 -> 1110 -> 0110 -> 0111 -> 0011 -> 1011\n",
    "\n",
    "Thinking about the maths, comments welcome:\n",
    "The induced path is related to the max independent set (MIS).\n",
    "Finding a MIS seems tractable for hypercubes. A Line: 1 point, a square: two points, a cube: four points, ... When you observe this, you'll notice that they inherit from each other:\n",
    "\n",
    "    0\n",
    "    00  ,11\n",
    "    000 ,110 ,101 ,011 \n",
    "    0000,1100,1010,0110,...\n",
    "    \n",
    "You can always find the new MIS elements as those that are not connected to the inherited MIS.\n",
    "\n",
    "    Can the max induced path be found among the possible paths (PP) connecting the MIS?\n",
    "    \n",
    "    How can symmetry be used to reduce the branches of PP? \n",
    "    For example does the symmetry mean we only have to search 1 permutation of MIS elements?\n",
    "    \n",
    "    Can we use 2 non-overlapping MISes to aid in the choice of the path?"
   ]
  },
  {
   "cell_type": "code",
   "execution_count": 128,
   "metadata": {},
   "outputs": [
    {
     "name": "stdout",
     "output_type": "stream",
     "text": [
      "(array([0]), [0]) \n",
      "\n",
      "(array([[0, 0],\n",
      "       [0, 0]]), [0]) \n",
      "\n",
      "(array([[0, 0, 0, 0],\n",
      "       [0, 0, 0, 1],\n",
      "       [0, 0, 0, 0],\n",
      "       [0, 1, 0, 0]]), [0]) \n",
      "\n",
      "(array([[0, 0, 0, 0, 0, 0, 0, 0],\n",
      "       [0, 0, 0, 1, 0, 1, 0, 0],\n",
      "       [0, 0, 0, 0, 0, 0, 1, 0],\n",
      "       [0, 1, 0, 0, 0, 0, 0, 1],\n",
      "       [0, 0, 0, 0, 0, 0, 0, 0],\n",
      "       [0, 1, 0, 0, 0, 0, 0, 1],\n",
      "       [0, 0, 1, 0, 0, 0, 0, 0],\n",
      "       [0, 0, 0, 1, 0, 1, 0, 0]]), [0]) \n",
      "\n",
      "(array([[0, 0, 0, 0, 0, 0, 0, 0, 0, 0, 0, 0, 0, 0, 0, 0],\n",
      "       [0, 0, 0, 1, 0, 1, 0, 0, 0, 1, 0, 0, 0, 0, 0, 0],\n",
      "       [0, 0, 0, 0, 0, 0, 1, 0, 0, 0, 1, 0, 0, 0, 0, 0],\n",
      "       [0, 1, 0, 0, 0, 0, 0, 1, 0, 0, 0, 1, 0, 0, 0, 0],\n",
      "       [0, 0, 0, 0, 0, 0, 0, 0, 0, 0, 0, 0, 1, 0, 0, 0],\n",
      "       [0, 1, 0, 0, 0, 0, 0, 1, 0, 0, 0, 0, 0, 1, 0, 0],\n",
      "       [0, 0, 1, 0, 0, 0, 0, 0, 0, 0, 0, 0, 0, 0, 1, 0],\n",
      "       [0, 0, 0, 1, 0, 1, 0, 0, 0, 0, 0, 0, 0, 0, 0, 1],\n",
      "       [0, 0, 0, 0, 0, 0, 0, 0, 0, 0, 0, 0, 0, 0, 0, 0],\n",
      "       [0, 1, 0, 0, 0, 0, 0, 0, 0, 0, 0, 1, 0, 1, 0, 0],\n",
      "       [0, 0, 1, 0, 0, 0, 0, 0, 0, 0, 0, 0, 0, 0, 1, 0],\n",
      "       [0, 0, 0, 1, 0, 0, 0, 0, 0, 1, 0, 0, 0, 0, 0, 1],\n",
      "       [0, 0, 0, 0, 1, 0, 0, 0, 0, 0, 0, 0, 0, 0, 0, 0],\n",
      "       [0, 0, 0, 0, 0, 1, 0, 0, 0, 1, 0, 0, 0, 0, 0, 1],\n",
      "       [0, 0, 0, 0, 0, 0, 1, 0, 0, 0, 1, 0, 0, 0, 0, 0],\n",
      "       [0, 0, 0, 0, 0, 0, 0, 1, 0, 0, 0, 1, 0, 1, 0, 0]]), [0]) \n",
      "\n",
      "(array([[0, 0, 0, ..., 0, 0, 0],\n",
      "       [0, 0, 0, ..., 0, 0, 0],\n",
      "       [0, 0, 0, ..., 0, 0, 0],\n",
      "       ..., \n",
      "       [0, 0, 0, ..., 0, 0, 1],\n",
      "       [0, 0, 0, ..., 0, 0, 0],\n",
      "       [0, 0, 0, ..., 1, 0, 0]]), [0]) \n",
      "\n"
     ]
    }
   ],
   "source": [
    "def hypercube(n):\n",
    "    if not n:\n",
    "        return np.zeros(1,int),np.identity(1,int)\n",
    "    n2 = 2**(n-1)\n",
    "    A = np.identity(n2,int)\n",
    "    B,a_solution = hypercube(n-1)    \n",
    "    C = np.zeros((2**n,2**n),int)\n",
    "    C[:n2,:n2],C[n2:,n2:], C[:n2,n2:],C[n2:,:n2] = B,B, A,A\n",
    "    for x in a_solution:\n",
    "        C[:,x],C[x,:] = 0,0\n",
    "    return C,a_solution\n",
    "\n",
    "for x in range(6):\n",
    "    print(hypercube(x),'\\n')"
   ]
  },
  {
   "cell_type": "code",
   "execution_count": 125,
   "metadata": {},
   "outputs": [
    {
     "data": {
      "text/plain": [
       "array([[ 0.,  0.,  0.,  0.],\n",
       "       [ 0.,  1.,  1.,  0.],\n",
       "       [ 0.,  1.,  1.,  0.],\n",
       "       [ 0.,  0.,  0.,  1.]])"
      ]
     },
     "execution_count": 125,
     "metadata": {},
     "output_type": "execute_result"
    }
   ],
   "source": [
    "D = np.identity(4) + np.flip(np.identity(4),0)\n",
    "D[0,:],D[:,0] = 0,0\n",
    "D"
   ]
  },
  {
   "cell_type": "markdown",
   "metadata": {},
   "source": [
    "1-1\n",
    "2-1/1.1\n",
    "4-2/2.1\n",
    "8-4/3.2\n",
    "16-8/4.\n",
    "32-16/\n",
    "\n",
    "0-1-1-1\n",
    "1-2-1.1-2-1\n",
    "2-4-1.3-3-1\n",
    "3-8-3.3(8-3-2)-5-2\n",
    "4-16-5.6(16-5-4)-8-3\n",
    "5-32-8.17(32-8-7)-14-6\n",
    "6-64-14.37(64-14-13)-27-13\n",
    "7-128-27.75(128-27-26)-51-24\n",
    "8-256-51.155(256-51-50)-99-48\n"
   ]
  },
  {
   "cell_type": "code",
   "execution_count": 133,
   "metadata": {},
   "outputs": [
    {
     "data": {
      "text/plain": [
       "256"
      ]
     },
     "execution_count": 133,
     "metadata": {},
     "output_type": "execute_result"
    }
   ],
   "source": [
    "2**8\n"
   ]
  },
  {
   "cell_type": "code",
   "execution_count": null,
   "metadata": {
    "collapsed": true
   },
   "outputs": [],
   "source": []
  }
 ],
 "metadata": {
  "kernelspec": {
   "display_name": "Python 3",
   "language": "python",
   "name": "python3"
  },
  "language_info": {
   "codemirror_mode": {
    "name": "ipython",
    "version": 3
   },
   "file_extension": ".py",
   "mimetype": "text/x-python",
   "name": "python",
   "nbconvert_exporter": "python",
   "pygments_lexer": "ipython3",
   "version": "3.6.1"
  }
 },
 "nbformat": 4,
 "nbformat_minor": 2
}
