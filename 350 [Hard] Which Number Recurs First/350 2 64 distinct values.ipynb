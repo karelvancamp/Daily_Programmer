{
 "cells": [
  {
   "cell_type": "code",
   "execution_count": 17,
   "metadata": {
    "collapsed": true
   },
   "outputs": [],
   "source": [
    "def dox():\n",
    "    i = Isaac(noblock=False)\n",
    "    c = set()\n",
    "    while True:\n",
    "        n = i.rand(2**32)\n",
    "        if n in c: \n",
    "            return len(c),n\n",
    "        c.add(n)"
   ]
  },
  {
   "cell_type": "code",
   "execution_count": 24,
   "metadata": {},
   "outputs": [
    {
     "name": "stdout",
     "output_type": "stream",
     "text": [
      "         4315411 function calls in 8.689 seconds\n",
      "\n",
      "   Ordered by: standard name\n",
      "\n",
      "   ncalls  tottime  percall  cumtime  percall filename:lineno(function)\n",
      "        1    0.254    0.254    8.689    8.689 <ipython-input-24-87a63533281a>:10(do)\n",
      "        1    0.000    0.000    0.000    0.000 <ipython-input-24-87a63533281a>:7(dNot)\n",
      "        1    0.000    0.000    8.689    8.689 <string>:1(<module>)\n",
      "        1    0.000    0.000    0.000    0.000 bloom_filter.py:389(__init__)\n",
      "    69369    0.156    0.000    0.205    0.000 bloom_filter.py:394(is_set)\n",
      "   706112    1.492    0.000    1.971    0.000 bloom_filter.py:400(set)\n",
      "   256770    1.231    0.000    1.231    0.000 bloom_filter.py:449(simple_hash)\n",
      "   128385    0.197    0.000    0.830    0.000 bloom_filter.py:457(hash1)\n",
      "   128385    0.186    0.000    0.784    0.000 bloom_filter.py:462(hash2)\n",
      "   903866    2.501    0.000    4.679    0.000 bloom_filter.py:467(get_bitno_lin_comb)\n",
      "        1    0.000    0.000    0.000    0.000 bloom_filter.py:507(__init__)\n",
      "    64192    1.193    0.000    6.018    0.000 bloom_filter.py:557(add)\n",
      "    64193    0.307    0.000    2.336    0.000 bloom_filter.py:588(__contains__)\n",
      "  1288513    0.790    0.000    0.790    0.000 {built-in method builtins.divmod}\n",
      "        1    0.000    0.000    8.689    8.689 {built-in method builtins.exec}\n",
      "   128385    0.130    0.000    0.130    0.000 {built-in method builtins.hasattr}\n",
      "        3    0.000    0.000    0.000    0.000 {built-in method math.ceil}\n",
      "        6    0.000    0.000    0.000    0.000 {built-in method math.log}\n",
      "   513032    0.170    0.000    0.170    0.000 {method 'append' of 'list' objects}\n",
      "        1    0.000    0.000    0.000    0.000 {method 'disable' of '_lsprof.Profiler' objects}\n",
      "    64193    0.080    0.000    0.080    0.000 {method 'getrandbits' of '_random.Random' objects}\n",
      "\n",
      "\n"
     ]
    }
   ],
   "source": [
    "from math import log,ceil\n",
    "from bloom_filter import BloomFilter\n",
    "from random import getrandbits\n",
    "\n",
    "import cProfile\n",
    "\n",
    "def dNot(error_rate):\n",
    "    return ceil(-log(error_rate,2))\n",
    "\n",
    "def do(exp=32,error_rate=0.001):\n",
    "    y = dNot(error_rate)\n",
    "    c = (exp+1)/2 + log(log(y+1,2),2)\n",
    "    b1 =  BloomFilter(max_elements=2**c, error_rate=2**-y)\n",
    "    while True:\n",
    "        n = getrandbits(exp)\n",
    "        if n in b1: return n\n",
    "        b1.add(n)\n",
    "\n",
    "a = cProfile.run('do()')\n",
    "ps = pstats.Stats(pr, stream=s).sort_stats(sortby)\n",
    "ps.print_stats()"
   ]
  },
  {
   "cell_type": "code",
   "execution_count": 37,
   "metadata": {},
   "outputs": [
    {
     "name": "stdout",
     "output_type": "stream",
     "text": [
      "         6377666 function calls in 11.496 seconds\n",
      "\n",
      "   Ordered by: internal time\n",
      "\n",
      "   ncalls  tottime  percall  cumtime  percall filename:lineno(function)\n",
      "  1337230    3.324    0.000    6.181    0.000 bloom_filter.py:467(get_bitno_lin_comb)\n",
      "  1041689    2.020    0.000    2.622    0.000 bloom_filter.py:400(set)\n",
      "   378798    1.625    0.000    1.625    0.000 bloom_filter.py:449(simple_hash)\n",
      "    94699    1.603    0.000    8.002    0.000 bloom_filter.py:557(add)\n",
      "  1904655    1.006    0.000    1.006    0.000 {built-in method builtins.divmod}\n",
      "    94700    0.412    0.000    3.089    0.000 bloom_filter.py:588(__contains__)\n",
      "        1    0.299    0.299   11.495   11.495 <ipython-input-24-87a63533281a>:10(do)\n",
      "   189399    0.243    0.000    1.089    0.000 bloom_filter.py:457(hash1)\n",
      "   189399    0.241    0.000    1.019    0.000 bloom_filter.py:462(hash2)\n",
      "   756824    0.235    0.000    0.235    0.000 {method 'append' of 'list' objects}\n",
      "   106142    0.209    0.000    0.273    0.000 bloom_filter.py:394(is_set)\n",
      "   189399    0.174    0.000    0.174    0.000 {built-in method builtins.hasattr}\n",
      "    94700    0.105    0.000    0.105    0.000 {method 'getrandbits' of '_random.Random' objects}\n",
      "        1    0.000    0.000    0.000    0.000 bloom_filter.py:389(__init__)\n",
      "        2    0.000    0.000    0.000    0.000 {built-in method builtins.compile}\n",
      "        2    0.000    0.000   11.495    5.748 interactiveshell.py:2851(run_code)\n",
      "        1    0.000    0.000    0.000    0.000 bloom_filter.py:507(__init__)\n",
      "        2    0.000    0.000    0.000    0.000 codeop.py:132(__call__)\n",
      "        1    0.000    0.000   11.495   11.495 <ipython-input-37-491896b4c85c>:4(<module>)\n",
      "        6    0.000    0.000    0.000    0.000 {built-in method math.log}\n",
      "        2    0.000    0.000    0.000    0.000 hooks.py:139(__call__)\n",
      "        1    0.000    0.000    0.000    0.000 <ipython-input-37-491896b4c85c>:5(<module>)\n",
      "        3    0.000    0.000    0.000    0.000 {built-in method math.ceil}\n",
      "        1    0.000    0.000    0.000    0.000 <ipython-input-24-87a63533281a>:7(dNot)\n",
      "        2    0.000    0.000    0.000    0.000 ipstruct.py:125(__getattr__)\n",
      "        2    0.000    0.000   11.495    5.748 {built-in method builtins.exec}\n",
      "        2    0.000    0.000    0.000    0.000 interactiveshell.py:1065(user_global_ns)\n",
      "        1    0.000    0.000    0.000    0.000 {method 'disable' of '_lsprof.Profiler' objects}\n",
      "        2    0.000    0.000    0.000    0.000 hooks.py:204(pre_run_code_hook)\n",
      "\n",
      "\n",
      "\n"
     ]
    }
   ],
   "source": [
    "import cProfile, pstats, io\n",
    "pr = cProfile.Profile()\n",
    "pr.enable()\n",
    "do()\n",
    "pr.disable()\n",
    "s = io.StringIO()\n",
    "ps = pstats.Stats(pr, stream=s).strip_dirs().sort_stats('tottime')\n",
    "ps.print_stats()\n",
    "print(s.getvalue())"
   ]
  },
  {
   "cell_type": "code",
   "execution_count": 34,
   "metadata": {},
   "outputs": [
    {
     "data": {
      "text/plain": [
       "4"
      ]
     },
     "execution_count": 34,
     "metadata": {},
     "output_type": "execute_result"
    }
   ],
   "source": [
    "import multiprocessing\n",
    "\n",
    "multiprocessing.cpu_count()"
   ]
  },
  {
   "cell_type": "code",
   "execution_count": 13,
   "metadata": {},
   "outputs": [
    {
     "name": "stdout",
     "output_type": "stream",
     "text": [
      "start\n",
      "first full collision: 4068891925\n",
      "probability that this is first repeat = 0.9999999361134425\n",
      "this is output 91781\n",
      "1 loop, best of 1: 24.3 s per loop\n"
     ]
    }
   ],
   "source": [
    "import random as prng\n",
    "random = prng.SystemRandom()\n",
    "\n",
    "def test():\n",
    "    k = 100\n",
    "    hash_bits = 16 # Memory use should be O(k * m * log m) with m = 2**hash_bits\n",
    "    stream_bits = 32\n",
    "    print('start')\n",
    "    \n",
    "    def create_hash(numbits, p = (1<<65)-493): # I *think* you need p > 2**stream_bits. Also, p needs to be prime, have fun!\n",
    "        a = random.randint(1, p - 1)\n",
    "        b = random.randint(0, p - 1)\n",
    "        mask = (1 << numbits) - 1\n",
    "    \n",
    "        def hash(x):\n",
    "            return ((a * x + b) % p) & mask\n",
    "    \n",
    "        return hash\n",
    "    \n",
    "    hasher_list = [create_hash(hash_bits) for i in range(k)]\n",
    "    set_list = [set() for i in range(k)]\n",
    "    \n",
    "    fullcoll = None\n",
    "    n = 0\n",
    "    while fullcoll is None:\n",
    "        curr_num = prng.getrandbits(stream_bits)\n",
    "        #curr_num = prng.rand((1<<stream_bits) - 1)\n",
    "        hash_list = [hsh(curr_num) for hsh in hasher_list]\n",
    "        in_list = [(hash_list[i] in set_list[i]) for i in range(k)]\n",
    "        if all(in_list):\n",
    "            fullcoll = curr_num\n",
    "        else:\n",
    "            for i in range(k):\n",
    "                set_list[i].add(hash_list[i])\n",
    "            n += 1\n",
    "    \n",
    "    print('first full collision: {}'.format(fullcoll))\n",
    "    coll_prob = (1. - (((1 << hash_bits)-1) / (1 << hash_bits))**n) ** k\n",
    "    unsize = 1 << stream_bits\n",
    "    firstrep_prob = n / unsize\n",
    "    for i in range(n + 1):\n",
    "        firstrep_prob *= (unsize - i) / unsize\n",
    "    true_prob = firstrep_prob / (firstrep_prob + coll_prob)\n",
    "    print('probability that this is first repeat = {}'.format(true_prob))\n",
    "    print('this is output {}'.format(n + 1))\n",
    "    \n",
    "%timeit -n1 -r1 test()"
   ]
  },
  {
   "cell_type": "code",
   "execution_count": null,
   "metadata": {
    "collapsed": true
   },
   "outputs": [],
   "source": []
  }
 ],
 "metadata": {
  "kernelspec": {
   "display_name": "Python 3",
   "language": "python",
   "name": "python3"
  },
  "language_info": {
   "codemirror_mode": {
    "name": "ipython",
    "version": 3
   },
   "file_extension": ".py",
   "mimetype": "text/x-python",
   "name": "python",
   "nbconvert_exporter": "python",
   "pygments_lexer": "ipython3",
   "version": "3.6.1"
  }
 },
 "nbformat": 4,
 "nbformat_minor": 2
}
