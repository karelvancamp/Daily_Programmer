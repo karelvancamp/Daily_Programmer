{
 "cells": [
  {
   "cell_type": "markdown",
   "metadata": {},
   "source": [
    "### equality constraints\n",
    "\n",
    "    x10 + x20 + x30 = 1224\n",
    "    x11 + x21 + x31 = 216\n",
    "    x12 + x22 + x32 = 216\n",
    "    x13 + x23 + x33 = 144\n",
    "    x14 + x24 + x34 = 480\n",
    "    x15 + x25 + x35 = 120\n",
    "\n",
    "    x10 + x11 + x12 + x13 + x14 + x15 = 1800\n",
    "    x20 + x21 + x22 + x23 + x24 + x25 + x30 + x31 + x32 + x33 + x34 + x35 = 600\n",
    "    \n",
    "    x20 + x21 + x22 + x23 + x24 + x25 - p1*600 = 0\n",
    "    x30 + x31 + x32 + x33 + x34 + x35 - p2*600 = 0\n",
    "    \n",
    "    p1 + p2 = 1\n",
    "    \n",
    "\n",
    "### inequality constraints\n",
    "\n",
    "    None\n",
    "\n",
    "### bounds\n",
    "\n",
    "    ok, default = (0,None)\n",
    "    p1,p2 binary\n",
    "    \n",
    "### objective function"
   ]
  },
  {
   "cell_type": "code",
   "execution_count": 1,
   "metadata": {
    "collapsed": true
   },
   "outputs": [],
   "source": [
    "from pulp import *"
   ]
  },
  {
   "cell_type": "code",
   "execution_count": 2,
   "metadata": {},
   "outputs": [
    {
     "name": "stdout",
     "output_type": "stream",
     "text": [
      "[x00, x01, x02, x03, x04, x05, x10, x11, x12, x13, x14, x15, x20, x21, x22, x23, x24, x25, p0, p1]\n"
     ]
    }
   ],
   "source": [
    "variables = ['x'+''.join(map(str,divmod(x,6))) for x in range(18)]\n",
    "plants = ['p'+str(x) for x in range(2)]\n",
    "\n",
    "LP_variables = [LpVariable(x, lowBound = 0, cat='Integer') for x in variables]\n",
    "LP_variables += [LpVariable(x, lowBound = 0, cat='Binary') for x in plants]\n",
    "print(LP_variables)"
   ]
  },
  {
   "cell_type": "code",
   "execution_count": 3,
   "metadata": {
    "collapsed": true
   },
   "outputs": [],
   "source": [
    "# consumption per warehouse\n",
    "LP_expressions = [LpAffineExpression([(LP_variables[x],1),\n",
    "                                      (LP_variables[x+6],1),\n",
    "                                      (LP_variables[x+12],1)]) for x in range(6)]\n",
    "# plants\n",
    "LP_expressions += [LpAffineExpression([(LP_variables[-2],1),\n",
    "                                        (LP_variables[-1],1)])]\n",
    "\n",
    "# production per plant\n",
    "LP_expressions += [LpAffineExpression([(LP_variables[x],1) for x in range(6)])]\n",
    "LP_expressions += [LpAffineExpression([(LP_variables[x],1) for x in range(6,18)])]\n",
    "\n",
    "LP_expressions += [LpAffineExpression([(LP_variables[x+y*6],1) for x in range(6)]\n",
    "                                      +[(LP_variables[y-3],-600)]\n",
    "                                     ) for y in range(1,3)]"
   ]
  },
  {
   "cell_type": "code",
   "execution_count": 4,
   "metadata": {},
   "outputs": [],
   "source": [
    "rhs = [1224,216,216,144,480,120,1,1800,600,0,0]"
   ]
  },
  {
   "cell_type": "code",
   "execution_count": 5,
   "metadata": {
    "collapsed": true
   },
   "outputs": [],
   "source": [
    "LP_constraints = [LpConstraint(x,sense=0,rhs=rhs[ix]) for ix,x in enumerate(LP_expressions)]"
   ]
  },
  {
   "cell_type": "code",
   "execution_count": 6,
   "metadata": {},
   "outputs": [],
   "source": [
    "# objective function\n",
    "costs = [0.8,1.2,1.5,1.6,1.9,2.1, 1.3,1.9,1.05,0.8,1.5,1.7, 1.9,2.9,1.2,1.6,0.9,0.8]\n",
    "\n",
    "LP_function = LpAffineExpression([(x,y) for x,y in zip(LP_variables,costs)])"
   ]
  },
  {
   "cell_type": "code",
   "execution_count": 7,
   "metadata": {},
   "outputs": [
    {
     "data": {
      "text/plain": [
       "The_Plant_Problem:\n",
       "MINIMIZE\n",
       "0.8*x00 + 1.2*x01 + 1.5*x02 + 1.6*x03 + 1.9*x04 + 2.1*x05 + 1.3*x10 + 1.9*x11 + 1.05*x12 + 0.8*x13 + 1.5*x14 + 1.7*x15 + 1.9*x20 + 2.9*x21 + 1.2*x22 + 1.6*x23 + 0.9*x24 + 0.8*x25 + 0\n",
       "SUBJECT TO\n",
       "_C1: x00 + x10 + x20 = 1224\n",
       "\n",
       "_C2: x01 + x11 + x21 = 216\n",
       "\n",
       "_C3: x02 + x12 + x22 = 216\n",
       "\n",
       "_C4: x03 + x13 + x23 = 144\n",
       "\n",
       "_C5: x04 + x14 + x24 = 480\n",
       "\n",
       "_C6: x05 + x15 + x25 = 120\n",
       "\n",
       "_C7: p0 + p1 = 1\n",
       "\n",
       "_C8: x00 + x01 + x02 + x03 + x04 + x05 = 1800\n",
       "\n",
       "_C9: x10 + x11 + x12 + x13 + x14 + x15 + x20 + x21 + x22 + x23 + x24 + x25\n",
       " = 600\n",
       "\n",
       "_C10: - 600 p0 + x10 + x11 + x12 + x13 + x14 + x15 = 0\n",
       "\n",
       "_C11: - 600 p1 + x20 + x21 + x22 + x23 + x24 + x25 = 0\n",
       "\n",
       "VARIABLES\n",
       "0 <= p0 <= 1 Integer\n",
       "0 <= p1 <= 1 Integer\n",
       "0 <= x00 Integer\n",
       "0 <= x01 Integer\n",
       "0 <= x02 Integer\n",
       "0 <= x03 Integer\n",
       "0 <= x04 Integer\n",
       "0 <= x05 Integer\n",
       "0 <= x10 Integer\n",
       "0 <= x11 Integer\n",
       "0 <= x12 Integer\n",
       "0 <= x13 Integer\n",
       "0 <= x14 Integer\n",
       "0 <= x15 Integer\n",
       "0 <= x20 Integer\n",
       "0 <= x21 Integer\n",
       "0 <= x22 Integer\n",
       "0 <= x23 Integer\n",
       "0 <= x24 Integer\n",
       "0 <= x25 Integer"
      ]
     },
     "execution_count": 7,
     "metadata": {},
     "output_type": "execute_result"
    }
   ],
   "source": [
    "prob = LpProblem(\"The_Plant_Problem\",LpMinimize)\n",
    "prob += LP_function\n",
    "\n",
    "for x in LP_constraints:\n",
    "    prob += x\n",
    "prob\n"
   ]
  },
  {
   "cell_type": "code",
   "execution_count": 8,
   "metadata": {},
   "outputs": [
    {
     "data": {
      "text/plain": [
       "1"
      ]
     },
     "execution_count": 8,
     "metadata": {},
     "output_type": "execute_result"
    }
   ],
   "source": [
    "prob.writeLP(\"The_Plant_Problem.lp\")\n",
    "prob.solve()"
   ]
  },
  {
   "cell_type": "code",
   "execution_count": 9,
   "metadata": {
    "scrolled": true
   },
   "outputs": [
    {
     "name": "stdout",
     "output_type": "stream",
     "text": [
      "p1 = 1\n",
      "x00 = 1224\n",
      "x01 = 216\n",
      "x02 = 216\n",
      "x03 = 144\n",
      "x24 = 480\n",
      "x25 = 120\n",
      "Total Cost =  2320.8\n"
     ]
    }
   ],
   "source": [
    "for v in prob.variables():\n",
    "    if v.varValue:\n",
    "        print(v.name, \"=\", int(v.varValue))\n",
    "        \n",
    "print(\"Total Cost = \", value(prob.objective))"
   ]
  },
  {
   "cell_type": "markdown",
   "metadata": {},
   "source": [
    "### equality constraints\n",
    "    \n",
    "    center + south = 1\n",
    "\n",
    "    demand is met in all warehouses\n",
    "    due to float, demand is floor of float\n",
    "    \n",
    "\n",
    "### inequality constraints\n",
    "\n",
    "    supply >= demand\n",
    "    \n",
    "### bounds\n",
    "\n",
    "    ok, default = (0,None)\n",
    "    p1,p2 binary\n",
    "    \n",
    "### objective function\n",
    "\n",
    "    cost * (supply_per_plant ^ warehouse ^ good)"
   ]
  },
  {
   "cell_type": "code",
   "execution_count": 10,
   "metadata": {},
   "outputs": [],
   "source": [
    "import numpy as np\n",
    "from pulp import *\n",
    "\n",
    "# sum demand over years\n",
    "Demand = np.array([2400+2450+2600,1750+2000+2300,490+550+600])\n",
    "Plant1 = np.array([1800+1400+1900,1250+1350+1400,350+380+400])\n",
    "\n",
    "Plant2 = Demand - Plant1\n",
    "\n",
    "Zone = np.array([[0.6],[0.15],[0.25]])\n",
    "House = np.array([[0.85,0.15],[0.6,0.4],[0.8,0.2]])\n",
    "Warehouse = (House * Zone).reshape(-1,1)\n",
    "\n",
    "# floor demand\n",
    "Local_demand = (Warehouse * Demand).astype(int)\n",
    "\n",
    "Cost = np.array([[0.8,1.3,1.9],[1.2,1.9,2.9],[1.5,1.05,1.2],\n",
    "                 [1.6,0.8,1.6],[1.9,1.5,0.9],[2.1,1.7,0.8]])"
   ]
  },
  {
   "cell_type": "code",
   "execution_count": 11,
   "metadata": {},
   "outputs": [
    {
     "data": {
      "text/plain": [
       "array([[3799, 3085,  836],\n",
       "       [ 670,  544,  147],\n",
       "       [ 670,  544,  147],\n",
       "       [ 447,  363,   98],\n",
       "       [1490, 1210,  328],\n",
       "       [ 372,  302,   82]])"
      ]
     },
     "execution_count": 11,
     "metadata": {},
     "output_type": "execute_result"
    }
   ],
   "source": [
    "Local_demand"
   ]
  },
  {
   "cell_type": "code",
   "execution_count": 12,
   "metadata": {},
   "outputs": [],
   "source": [
    "variables = ['w_'+str(x).zfill(2) for x in range(1,18*3+1)]\n",
    "plants = ['p_'+str(x) for x in range(2)]\n",
    "\n",
    "LP_variables = [LpVariable(x, lowBound = 0, cat='Integer') for x in variables]\n",
    "LP_variables += [LpVariable(x, lowBound = 0, cat='Binary') for x in plants]"
   ]
  },
  {
   "cell_type": "code",
   "execution_count": 13,
   "metadata": {},
   "outputs": [],
   "source": [
    "# plants\n",
    "LP_expressions = [LpAffineExpression([(LP_variables[-2],1),\n",
    "                                        (LP_variables[-1],1)])]\n",
    "\n",
    "# consumption per warehouse\n",
    "for y in range(3):\n",
    "    LP_expressions += [LpAffineExpression([(LP_variables[18*y+x],1),\n",
    "                                      (LP_variables[18*y+x+6],1),\n",
    "                                      (LP_variables[18*y+x+12],1)]) for x in range(6)]\n",
    "\n",
    "# supply per plant\n",
    "for y in range(3):\n",
    "    LP_expressions += [LpAffineExpression([(LP_variables[x],1) for x in range(18*y,18*y+6)])]\n",
    "for y in range(3):\n",
    "    LP_expressions += [LpAffineExpression([(LP_variables[x+z*6],1) for x in range(18*y,18*y+6)]\n",
    "                                          +[(LP_variables[z-3],-Plant2[y])]\n",
    "                                                     ) for z in range(1,3)]\n",
    "for y in range(3):\n",
    "    LP_expressions += [LpAffineExpression([(LP_variables[x],1) for x in range(18*y+6,18*y+18)])]\n"
   ]
  },
  {
   "cell_type": "code",
   "execution_count": 14,
   "metadata": {},
   "outputs": [],
   "source": [
    "rhs_equal = [1] + np.transpose(Local_demand).reshape(-1,).tolist() \n",
    "rhs_small = Plant1.tolist()  + [0]*6 + Plant2.tolist()\n",
    "\n",
    "LP_constraints = [LpConstraint(x,sense=0,rhs=rhs_equal[ix]) for ix,x in enumerate(LP_expressions[:-12])]\n",
    "LP_constraints += [LpConstraint(x,sense=-1,rhs=rhs_small[ix]) for ix,x in enumerate(LP_expressions[-12:])]"
   ]
  },
  {
   "cell_type": "code",
   "execution_count": 15,
   "metadata": {
    "collapsed": true
   },
   "outputs": [],
   "source": [
    "costs = [0.8,1.2,1.5,1.6,1.9,2.1, 1.3,1.9,1.05,0.8,1.5,1.7, 1.9,2.9,1.2,1.6,0.9,0.8]\n",
    "\n",
    "LP_function = LpAffineExpression([(x,y) for x,y in zip(LP_variables,costs*3)])"
   ]
  },
  {
   "cell_type": "code",
   "execution_count": 16,
   "metadata": {},
   "outputs": [
    {
     "data": {
      "text/plain": [
       "The_Plant_Problem:\n",
       "MINIMIZE\n",
       "0.8*w_01 + 1.2*w_02 + 1.5*w_03 + 1.6*w_04 + 1.9*w_05 + 2.1*w_06 + 1.3*w_07 + 1.9*w_08 + 1.05*w_09 + 0.8*w_10 + 1.5*w_11 + 1.7*w_12 + 1.9*w_13 + 2.9*w_14 + 1.2*w_15 + 1.6*w_16 + 0.9*w_17 + 0.8*w_18 + 0.8*w_19 + 1.2*w_20 + 1.5*w_21 + 1.6*w_22 + 1.9*w_23 + 2.1*w_24 + 1.3*w_25 + 1.9*w_26 + 1.05*w_27 + 0.8*w_28 + 1.5*w_29 + 1.7*w_30 + 1.9*w_31 + 2.9*w_32 + 1.2*w_33 + 1.6*w_34 + 0.9*w_35 + 0.8*w_36 + 0.8*w_37 + 1.2*w_38 + 1.5*w_39 + 1.6*w_40 + 1.9*w_41 + 2.1*w_42 + 1.3*w_43 + 1.9*w_44 + 1.05*w_45 + 0.8*w_46 + 1.5*w_47 + 1.7*w_48 + 1.9*w_49 + 2.9*w_50 + 1.2*w_51 + 1.6*w_52 + 0.9*w_53 + 0.8*w_54 + 0\n",
       "SUBJECT TO\n",
       "_C1: p_0 + p_1 = 1\n",
       "\n",
       "_C2: w_01 + w_07 + w_13 = 3799\n",
       "\n",
       "_C3: w_02 + w_08 + w_14 = 670\n",
       "\n",
       "_C4: w_03 + w_09 + w_15 = 670\n",
       "\n",
       "_C5: w_04 + w_10 + w_16 = 447\n",
       "\n",
       "_C6: w_05 + w_11 + w_17 = 1490\n",
       "\n",
       "_C7: w_06 + w_12 + w_18 = 372\n",
       "\n",
       "_C8: w_19 + w_25 + w_31 = 3085\n",
       "\n",
       "_C9: w_20 + w_26 + w_32 = 544\n",
       "\n",
       "_C10: w_21 + w_27 + w_33 = 544\n",
       "\n",
       "_C11: w_22 + w_28 + w_34 = 363\n",
       "\n",
       "_C12: w_23 + w_29 + w_35 = 1210\n",
       "\n",
       "_C13: w_24 + w_30 + w_36 = 302\n",
       "\n",
       "_C14: w_37 + w_43 + w_49 = 836\n",
       "\n",
       "_C15: w_38 + w_44 + w_50 = 147\n",
       "\n",
       "_C16: w_39 + w_45 + w_51 = 147\n",
       "\n",
       "_C17: w_40 + w_46 + w_52 = 98\n",
       "\n",
       "_C18: w_41 + w_47 + w_53 = 328\n",
       "\n",
       "_C19: w_42 + w_48 + w_54 = 82\n",
       "\n",
       "_C20: w_01 + w_02 + w_03 + w_04 + w_05 + w_06 <= 5100\n",
       "\n",
       "_C21: w_19 + w_20 + w_21 + w_22 + w_23 + w_24 <= 4000\n",
       "\n",
       "_C22: w_37 + w_38 + w_39 + w_40 + w_41 + w_42 <= 1130\n",
       "\n",
       "_C23: - 2350 p_0 + w_07 + w_08 + w_09 + w_10 + w_11 + w_12 <= 0\n",
       "\n",
       "_C24: - 2350 p_1 + w_13 + w_14 + w_15 + w_16 + w_17 + w_18 <= 0\n",
       "\n",
       "_C25: - 2050 p_0 + w_25 + w_26 + w_27 + w_28 + w_29 + w_30 <= 0\n",
       "\n",
       "_C26: - 2050 p_1 + w_31 + w_32 + w_33 + w_34 + w_35 + w_36 <= 0\n",
       "\n",
       "_C27: - 510 p_0 + w_43 + w_44 + w_45 + w_46 + w_47 + w_48 <= 0\n",
       "\n",
       "_C28: - 510 p_1 + w_49 + w_50 + w_51 + w_52 + w_53 + w_54 <= 0\n",
       "\n",
       "_C29: w_07 + w_08 + w_09 + w_10 + w_11 + w_12 + w_13 + w_14 + w_15 + w_16\n",
       " + w_17 + w_18 <= 2350\n",
       "\n",
       "_C30: w_25 + w_26 + w_27 + w_28 + w_29 + w_30 + w_31 + w_32 + w_33 + w_34\n",
       " + w_35 + w_36 <= 2050\n",
       "\n",
       "_C31: w_43 + w_44 + w_45 + w_46 + w_47 + w_48 + w_49 + w_50 + w_51 + w_52\n",
       " + w_53 + w_54 <= 510\n",
       "\n",
       "VARIABLES\n",
       "0 <= p_0 <= 1 Integer\n",
       "0 <= p_1 <= 1 Integer\n",
       "0 <= w_01 Integer\n",
       "0 <= w_02 Integer\n",
       "0 <= w_03 Integer\n",
       "0 <= w_04 Integer\n",
       "0 <= w_05 Integer\n",
       "0 <= w_06 Integer\n",
       "0 <= w_07 Integer\n",
       "0 <= w_08 Integer\n",
       "0 <= w_09 Integer\n",
       "0 <= w_10 Integer\n",
       "0 <= w_11 Integer\n",
       "0 <= w_12 Integer\n",
       "0 <= w_13 Integer\n",
       "0 <= w_14 Integer\n",
       "0 <= w_15 Integer\n",
       "0 <= w_16 Integer\n",
       "0 <= w_17 Integer\n",
       "0 <= w_18 Integer\n",
       "0 <= w_19 Integer\n",
       "0 <= w_20 Integer\n",
       "0 <= w_21 Integer\n",
       "0 <= w_22 Integer\n",
       "0 <= w_23 Integer\n",
       "0 <= w_24 Integer\n",
       "0 <= w_25 Integer\n",
       "0 <= w_26 Integer\n",
       "0 <= w_27 Integer\n",
       "0 <= w_28 Integer\n",
       "0 <= w_29 Integer\n",
       "0 <= w_30 Integer\n",
       "0 <= w_31 Integer\n",
       "0 <= w_32 Integer\n",
       "0 <= w_33 Integer\n",
       "0 <= w_34 Integer\n",
       "0 <= w_35 Integer\n",
       "0 <= w_36 Integer\n",
       "0 <= w_37 Integer\n",
       "0 <= w_38 Integer\n",
       "0 <= w_39 Integer\n",
       "0 <= w_40 Integer\n",
       "0 <= w_41 Integer\n",
       "0 <= w_42 Integer\n",
       "0 <= w_43 Integer\n",
       "0 <= w_44 Integer\n",
       "0 <= w_45 Integer\n",
       "0 <= w_46 Integer\n",
       "0 <= w_47 Integer\n",
       "0 <= w_48 Integer\n",
       "0 <= w_49 Integer\n",
       "0 <= w_50 Integer\n",
       "0 <= w_51 Integer\n",
       "0 <= w_52 Integer\n",
       "0 <= w_53 Integer\n",
       "0 <= w_54 Integer"
      ]
     },
     "execution_count": 16,
     "metadata": {},
     "output_type": "execute_result"
    }
   ],
   "source": [
    "prob = LpProblem(\"The_Plant_Problem\",LpMinimize)\n",
    "prob += LP_function\n",
    "\n",
    "for x in LP_constraints:\n",
    "    prob += x\n",
    "prob"
   ]
  },
  {
   "cell_type": "code",
   "execution_count": 17,
   "metadata": {},
   "outputs": [
    {
     "data": {
      "text/plain": [
       "1"
      ]
     },
     "execution_count": 17,
     "metadata": {},
     "output_type": "execute_result"
    }
   ],
   "source": [
    "prob.writeLP(\"The_Plant_Problem.lp\")\n",
    "prob.solve()"
   ]
  },
  {
   "cell_type": "code",
   "execution_count": 18,
   "metadata": {},
   "outputs": [
    {
     "name": "stdout",
     "output_type": "stream",
     "text": [
      "p_1 = 1\n",
      "w_01 = 3799\n",
      "w_02 = 670\n",
      "w_03 = 182\n",
      "w_04 = 447\n",
      "w_15 = 488\n",
      "w_17 = 1490\n",
      "w_18 = 372\n",
      "w_19 = 3085\n",
      "w_20 = 544\n",
      "w_21 = 6\n",
      "w_22 = 363\n",
      "w_33 = 538\n",
      "w_35 = 1210\n",
      "w_36 = 302\n",
      "w_37 = 836\n",
      "w_38 = 147\n",
      "w_39 = 47\n",
      "w_40 = 98\n",
      "w_51 = 100\n",
      "w_53 = 328\n",
      "w_54 = 82\n",
      "Total Cost =  14295.7\n"
     ]
    }
   ],
   "source": [
    "for v in prob.variables():\n",
    "    if v.varValue:\n",
    "        print(v.name, \"=\", int(v.varValue))\n",
    "        \n",
    "print(\"Total Cost = \", value(prob.objective))"
   ]
  }
 ],
 "metadata": {
  "kernelspec": {
   "display_name": "Python 3",
   "language": "python",
   "name": "python3"
  },
  "language_info": {
   "codemirror_mode": {
    "name": "ipython",
    "version": 3
   },
   "file_extension": ".py",
   "mimetype": "text/x-python",
   "name": "python",
   "nbconvert_exporter": "python",
   "pygments_lexer": "ipython3",
   "version": "3.6.1"
  }
 },
 "nbformat": 4,
 "nbformat_minor": 2
}
