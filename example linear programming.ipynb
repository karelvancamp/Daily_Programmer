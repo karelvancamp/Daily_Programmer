{
 "cells": [
  {
   "cell_type": "code",
   "execution_count": 6,
   "metadata": {
    "collapsed": true
   },
   "outputs": [],
   "source": [
    "demand = 2400\n",
    "plant1 = 1800\n",
    "plant2 = 600\n",
    "\n",
    "w1a = int(0.60*0.85*demand)\n",
    "w1b = int(0.60*0.15*demand)\n",
    "w2a = int(0.15*0.60*demand)\n",
    "w2b = int(0.15*0.40*demand)\n",
    "w3a = int(0.25*0.80*demand)\n",
    "w3b = int(0.25*0.20*demand)"
   ]
  },
  {
   "cell_type": "code",
   "execution_count": 21,
   "metadata": {},
   "outputs": [
    {
     "data": {
      "text/plain": [
       "[1224, 216, 216, 144, 480, 120]"
      ]
     },
     "execution_count": 21,
     "metadata": {},
     "output_type": "execute_result"
    }
   ],
   "source": [
    "[w1a,w1b,w2a,w2b,w3a,w3b]"
   ]
  },
  {
   "cell_type": "markdown",
   "metadata": {},
   "source": [
    "### equality constraints\n",
    "\n",
    "    x10 + x20 = w1a\n",
    "    x11 + x21 = w1b\n",
    "    x12 + x22 = w2a\n",
    "    x13 + x23 = w2b\n",
    "    x14 + x24 = w3a\n",
    "    x15 + x25 = w3b\n",
    "\n",
    "    x10 + x11 + x12 + x13 + x14 + x15 = 1800\n",
    "    x20 + x21 + x22 + x23 + x24 + x25 = 600\n",
    "\n",
    "### inequality constraints\n",
    "\n",
    "    None\n",
    "\n",
    "### bounds\n",
    "\n",
    "    ok, default = (0,None)\n",
    "    \n",
    "### objective function\n",
    "\n",
    "    x10*0.80 + x11*1.20 + x12*1.50 + x13*1.60 + x14*1.90 + x15*2.10\n",
    "    + x20*1.30 + x21*1.90 + x22*1.05 + x23*0.80 + x24*1.50 + x25*1.70"
   ]
  },
  {
   "cell_type": "code",
   "execution_count": 24,
   "metadata": {},
   "outputs": [
    {
     "data": {
      "text/plain": [
       "(array([[1, 0, 0, 0, 0, 0, 1, 0, 0, 0, 0, 0],\n",
       "        [0, 1, 0, 0, 0, 0, 0, 1, 0, 0, 0, 0],\n",
       "        [0, 0, 1, 0, 0, 0, 0, 0, 1, 0, 0, 0],\n",
       "        [0, 0, 0, 1, 0, 0, 0, 0, 0, 1, 0, 0],\n",
       "        [0, 0, 0, 0, 1, 0, 0, 0, 0, 0, 1, 0],\n",
       "        [0, 0, 0, 0, 0, 1, 0, 0, 0, 0, 0, 1],\n",
       "        [1, 1, 1, 1, 1, 1, 0, 0, 0, 0, 0, 0],\n",
       "        [0, 0, 0, 0, 0, 0, 1, 1, 1, 1, 1, 1]]),\n",
       " array([1224,  216,  216,  144,  480,  120, 1800,  600]))"
      ]
     },
     "execution_count": 24,
     "metadata": {},
     "output_type": "execute_result"
    }
   ],
   "source": [
    "import numpy as np\n",
    "\n",
    "LA_eq = []\n",
    "for x in range(6):\n",
    "    z = []\n",
    "    for y in range(12):\n",
    "        if y%6 == x: z.append(1)\n",
    "        else:        z.append(0)\n",
    "    LA_eq.append(z)    \n",
    "LA_eq.append([1]*6+[0]*6)\n",
    "LA_eq.append([0]*6+[1]*6)\n",
    "\n",
    "A_eq = np.array(LA_eq)\n",
    "b_eq = np.array([w1a,w1b,w2a,w2b,w3a,w3b,1800,600])\n",
    "\n",
    "A_eq,b_eq"
   ]
  },
  {
   "cell_type": "code",
   "execution_count": 25,
   "metadata": {},
   "outputs": [
    {
     "data": {
      "text/plain": [
       "     fun: 2648.4000000000005\n",
       " message: 'Optimization terminated successfully.'\n",
       "     nit: 11\n",
       "   slack: array([], dtype=float64)\n",
       "  status: 0\n",
       " success: True\n",
       "       x: array([ 1224.,   216.,     0.,     0.,   360.,     0.,     0.,     0.,\n",
       "         216.,   144.,   120.,   120.])"
      ]
     },
     "execution_count": 25,
     "metadata": {},
     "output_type": "execute_result"
    }
   ],
   "source": [
    "from scipy import optimize\n",
    "\n",
    "c = np.array([0.8,1.2,1.5,1.6,1.9,2.1, 1.3,1.9,1.05,0.8,1.5,1.7])\n",
    "\n",
    "optimize.linprog(c,None,None,A_eq,b_eq)"
   ]
  },
  {
   "cell_type": "code",
   "execution_count": 26,
   "metadata": {},
   "outputs": [
    {
     "data": {
      "text/plain": [
       "     fun: 2320.8000000000002\n",
       " message: 'Optimization terminated successfully.'\n",
       "     nit: 9\n",
       "   slack: array([], dtype=float64)\n",
       "  status: 0\n",
       " success: True\n",
       "       x: array([ 1224.,   216.,   216.,   144.,     0.,     0.,     0.,     0.,\n",
       "           0.,     0.,   480.,   120.])"
      ]
     },
     "execution_count": 26,
     "metadata": {},
     "output_type": "execute_result"
    }
   ],
   "source": [
    "c = np.array([0.8,1.2,1.5,1.6,1.9,2.1, 1.9,2.9,1.2,1.6,0.9,0.8])\n",
    "\n",
    "optimize.linprog(c,None,None,A_eq,b_eq)"
   ]
  },
  {
   "cell_type": "markdown",
   "metadata": {},
   "source": [
    "So if we look only at the returnables for the 1e year, the warehouse in the south is preferable."
   ]
  },
  {
   "cell_type": "markdown",
   "metadata": {},
   "source": [
    "### equality constraints\n",
    "\n",
    "    x10 + x20 + x30 = w1a\n",
    "    x11 + x21 + x31 = w1b\n",
    "    x12 + x22 + x32 = w2a\n",
    "    x13 + x23 + x33 = w2b\n",
    "    x14 + x24 + x34 = w3a\n",
    "    x15 + x25 + x35 = w3b\n",
    "\n",
    "    x10 + x11 + x12 + x13 + x14 + x15 = 1800\n",
    "    x20 + x21 + x22 + x23 + x24 + x25 + x30 + x31 + x32 + x33 + x34 + x35 = 600\n",
    "    \n",
    "    x20 + x21 + x22 + x23 + x24 + x25 - p1*600 = 0\n",
    "    x30 + x31 + x32 + x33 + x34 + x35 - p2*600 = 0\n",
    "    \n",
    "    p1 + p2 = 1\n",
    "    \n",
    "\n",
    "### inequality constraints\n",
    "\n",
    "    None\n",
    "\n",
    "### bounds\n",
    "\n",
    "    ok, default = (0,None)\n",
    "    p1,p2 binary\n",
    "    \n",
    "### objective function\n",
    "\n",
    "    x10*0.80 + x11*1.20 + x12*1.50 + x13*1.60 + x14*1.90 + x15*2.10\n",
    "    + x20*1.30 + x21*1.90 + x22*1.05 + x23*0.80 + x24*1.50 + x25*1.70"
   ]
  },
  {
   "cell_type": "code",
   "execution_count": 28,
   "metadata": {},
   "outputs": [],
   "source": [
    "from pulp import *"
   ]
  },
  {
   "cell_type": "code",
   "execution_count": 45,
   "metadata": {},
   "outputs": [
    {
     "name": "stdout",
     "output_type": "stream",
     "text": [
      "[x00, x01, x02, x03, x04, x05, x10, x11, x12, x13, x14, x15, x20, x21, x22, x23, x24, x25, p0, p1]\n"
     ]
    }
   ],
   "source": [
    "variables = ['x'+''.join(map(str,divmod(x,6))) for x in range(18)]\n",
    "plants = ['p'+str(x) for x in range(2)]\n",
    "\n",
    "LP_variables = [LpVariable(x, lowBound = 0, cat='Integer') for x in variables]\n",
    "LP_variables += [LpVariable(x, lowBound = 0, cat='Binary') for x in plants]\n",
    "print(LP_variables)"
   ]
  },
  {
   "cell_type": "code",
   "execution_count": 94,
   "metadata": {},
   "outputs": [],
   "source": [
    "# consumption per warehouse\n",
    "LP_expressions = [LpAffineExpression([(LP_variables[x],1),\n",
    "                                      (LP_variables[x+6],1),\n",
    "                                      (LP_variables[x+12],1)]) for x in range(6)]\n",
    "# plants\n",
    "LP_expressions += [LpAffineExpression([(LP_variables[-2],1),\n",
    "                                        (LP_variables[-1],1)])]\n",
    "\n",
    "# production per plant\n",
    "LP_expressions += [LpAffineExpression([(LP_variables[x],1) for x in range(6)])]\n",
    "LP_expressions += [LpAffineExpression([(LP_variables[x],1) for x in range(6,18)])]\n",
    "\n",
    "LP_expressions += [LpAffineExpression([(LP_variables[x+y*6],1) for x in range(6)]\n",
    "                                      +[(LP_variables[y-3],-600)]\n",
    "                                     ) for y in range(1,3)]"
   ]
  },
  {
   "cell_type": "code",
   "execution_count": 95,
   "metadata": {
    "collapsed": true
   },
   "outputs": [],
   "source": [
    "rhs = [w1a,w1b,w2a,w2b,w3a,w3b,1,1800,600,0,0]"
   ]
  },
  {
   "cell_type": "code",
   "execution_count": 96,
   "metadata": {},
   "outputs": [],
   "source": [
    "LP_constraints = [LpConstraint(x,sense=0,rhs=rhs[ix]) for ix,x in enumerate(LP_expressions)]"
   ]
  },
  {
   "cell_type": "code",
   "execution_count": 103,
   "metadata": {},
   "outputs": [],
   "source": [
    "# objective function\n",
    "costs = [0.8,1.2,1.5,1.6,1.9,2.1, 1.3,1.9,1.05,0.8,1.5,1.7, 1.9,2.9,1.2,1.6,0.9,0.8]\n",
    "\n",
    "LP_function = LpAffineExpression([(x,y) for x,y in zip(LP_variables,costs)])"
   ]
  },
  {
   "cell_type": "code",
   "execution_count": 112,
   "metadata": {},
   "outputs": [
    {
     "data": {
      "text/plain": [
       "The_Plant_Problem:\n",
       "MINIMIZE\n",
       "0.8*x00 + 1.2*x01 + 1.5*x02 + 1.6*x03 + 1.9*x04 + 2.1*x05 + 1.3*x10 + 1.9*x11 + 1.05*x12 + 0.8*x13 + 1.5*x14 + 1.7*x15 + 1.9*x20 + 2.9*x21 + 1.2*x22 + 1.6*x23 + 0.9*x24 + 0.8*x25 + 0\n",
       "SUBJECT TO\n",
       "_C1: x00 + x10 + x20 = 1224\n",
       "\n",
       "_C2: x01 + x11 + x21 = 216\n",
       "\n",
       "_C3: x02 + x12 + x22 = 216\n",
       "\n",
       "_C4: x03 + x13 + x23 = 144\n",
       "\n",
       "_C5: x04 + x14 + x24 = 480\n",
       "\n",
       "_C6: x05 + x15 + x25 = 120\n",
       "\n",
       "_C7: p0 + p1 = 1\n",
       "\n",
       "_C8: x00 + x01 + x02 + x03 + x04 + x05 = 1800\n",
       "\n",
       "_C9: x10 + x11 + x12 + x13 + x14 + x15 + x20 + x21 + x22 + x23 + x24 + x25\n",
       " = 600\n",
       "\n",
       "_C10: - 600 p0 + x10 + x11 + x12 + x13 + x14 + x15 = 0\n",
       "\n",
       "_C11: - 600 p1 + x20 + x21 + x22 + x23 + x24 + x25 = 0\n",
       "\n",
       "VARIABLES\n",
       "0 <= p0 <= 1 Integer\n",
       "0 <= p1 <= 1 Integer\n",
       "0 <= x00 Integer\n",
       "0 <= x01 Integer\n",
       "0 <= x02 Integer\n",
       "0 <= x03 Integer\n",
       "0 <= x04 Integer\n",
       "0 <= x05 Integer\n",
       "0 <= x10 Integer\n",
       "0 <= x11 Integer\n",
       "0 <= x12 Integer\n",
       "0 <= x13 Integer\n",
       "0 <= x14 Integer\n",
       "0 <= x15 Integer\n",
       "0 <= x20 Integer\n",
       "0 <= x21 Integer\n",
       "0 <= x22 Integer\n",
       "0 <= x23 Integer\n",
       "0 <= x24 Integer\n",
       "0 <= x25 Integer"
      ]
     },
     "execution_count": 112,
     "metadata": {},
     "output_type": "execute_result"
    }
   ],
   "source": [
    "prob = LpProblem(\"The_Plant_Problem\",LpMinimize)\n",
    "prob += LP_function\n",
    "\n",
    "for x in LP_constraints:\n",
    "    prob += x\n",
    "prob"
   ]
  },
  {
   "cell_type": "code",
   "execution_count": 113,
   "metadata": {},
   "outputs": [
    {
     "data": {
      "text/plain": [
       "1"
      ]
     },
     "execution_count": 113,
     "metadata": {},
     "output_type": "execute_result"
    }
   ],
   "source": [
    "prob.writeLP(\"The_Plant_Problem.lp\")\n",
    "prob.solve()"
   ]
  },
  {
   "cell_type": "code",
   "execution_count": 118,
   "metadata": {},
   "outputs": [
    {
     "name": "stdout",
     "output_type": "stream",
     "text": [
      "p1 = 1\n",
      "x00 = 1224\n",
      "x01 = 216\n",
      "x02 = 216\n",
      "x03 = 144\n",
      "x24 = 480\n",
      "x25 = 120\n",
      "Total Cost =  2320.8\n"
     ]
    }
   ],
   "source": [
    "for v in prob.variables():\n",
    "    if v.varValue:\n",
    "        print(v.name, \"=\", int(v.varValue))\n",
    "        \n",
    "print(\"Total Cost = \", value(prob.objective))"
   ]
  },
  {
   "cell_type": "code",
   "execution_count": null,
   "metadata": {
    "collapsed": true
   },
   "outputs": [],
   "source": []
  }
 ],
 "metadata": {
  "kernelspec": {
   "display_name": "Python 3",
   "language": "python",
   "name": "python3"
  },
  "language_info": {
   "codemirror_mode": {
    "name": "ipython",
    "version": 3
   },
   "file_extension": ".py",
   "mimetype": "text/x-python",
   "name": "python",
   "nbconvert_exporter": "python",
   "pygments_lexer": "ipython3",
   "version": "3.6.1"
  }
 },
 "nbformat": 4,
 "nbformat_minor": 2
}
