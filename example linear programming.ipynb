{
 "cells": [
  {
   "cell_type": "code",
   "execution_count": 6,
   "metadata": {
    "collapsed": true
   },
   "outputs": [],
   "source": [
    "demand = 2400\n",
    "plant1 = 1800\n",
    "plant2 = 600\n",
    "\n",
    "w1a = int(0.60*0.85*demand)\n",
    "w1b = int(0.60*0.15*demand)\n",
    "w2a = int(0.15*0.60*demand)\n",
    "w2b = int(0.15*0.40*demand)\n",
    "w3a = int(0.25*0.80*demand)\n",
    "w3b = int(0.25*0.20*demand)"
   ]
  },
  {
   "cell_type": "code",
   "execution_count": 21,
   "metadata": {},
   "outputs": [
    {
     "data": {
      "text/plain": [
       "[1224, 216, 216, 144, 480, 120]"
      ]
     },
     "execution_count": 21,
     "metadata": {},
     "output_type": "execute_result"
    }
   ],
   "source": [
    "[w1a,w1b,w2a,w2b,w3a,w3b]"
   ]
  },
  {
   "cell_type": "markdown",
   "metadata": {},
   "source": [
    "### equality constraints\n",
    "\n",
    "    x10 + x20 = w1a\n",
    "    x11 + x21 = w1b\n",
    "    x12 + x22 = w2a\n",
    "    x13 + x23 = w2b\n",
    "    x14 + x24 = w3a\n",
    "    x15 + x25 = w3b\n",
    "\n",
    "    x10 + x11 + x12 + x13 + x14 + x15 = 1800\n",
    "    x20 + x21 + x22 + x23 + x24 + x25 = 600\n",
    "\n",
    "### inequality constraints\n",
    "\n",
    "    None\n",
    "\n",
    "### bounds\n",
    "\n",
    "    ok, default = (0,None)\n",
    "    \n",
    "### objective function\n",
    "\n",
    "    x10*0.80 + x11*1.20 + x12*1.50 + x13*1.60 + x14*1.90 + x15*2.10\n",
    "    + x20*1.30 + x21*1.90 + x22*1.05 + x23*0.80 + x24*1.50 + x25*1.70"
   ]
  },
  {
   "cell_type": "code",
   "execution_count": 24,
   "metadata": {},
   "outputs": [
    {
     "data": {
      "text/plain": [
       "(array([[1, 0, 0, 0, 0, 0, 1, 0, 0, 0, 0, 0],\n",
       "        [0, 1, 0, 0, 0, 0, 0, 1, 0, 0, 0, 0],\n",
       "        [0, 0, 1, 0, 0, 0, 0, 0, 1, 0, 0, 0],\n",
       "        [0, 0, 0, 1, 0, 0, 0, 0, 0, 1, 0, 0],\n",
       "        [0, 0, 0, 0, 1, 0, 0, 0, 0, 0, 1, 0],\n",
       "        [0, 0, 0, 0, 0, 1, 0, 0, 0, 0, 0, 1],\n",
       "        [1, 1, 1, 1, 1, 1, 0, 0, 0, 0, 0, 0],\n",
       "        [0, 0, 0, 0, 0, 0, 1, 1, 1, 1, 1, 1]]),\n",
       " array([1224,  216,  216,  144,  480,  120, 1800,  600]))"
      ]
     },
     "execution_count": 24,
     "metadata": {},
     "output_type": "execute_result"
    }
   ],
   "source": [
    "import numpy as np\n",
    "\n",
    "LA_eq = []\n",
    "for x in range(6):\n",
    "    z = []\n",
    "    for y in range(12):\n",
    "        if y%6 == x: z.append(1)\n",
    "        else:        z.append(0)\n",
    "    LA_eq.append(z)    \n",
    "LA_eq.append([1]*6+[0]*6)\n",
    "LA_eq.append([0]*6+[1]*6)\n",
    "\n",
    "A_eq = np.array(LA_eq)\n",
    "b_eq = np.array([w1a,w1b,w2a,w2b,w3a,w3b,1800,600])\n",
    "\n",
    "A_eq,b_eq"
   ]
  },
  {
   "cell_type": "code",
   "execution_count": 25,
   "metadata": {},
   "outputs": [
    {
     "data": {
      "text/plain": [
       "     fun: 2648.4000000000005\n",
       " message: 'Optimization terminated successfully.'\n",
       "     nit: 11\n",
       "   slack: array([], dtype=float64)\n",
       "  status: 0\n",
       " success: True\n",
       "       x: array([ 1224.,   216.,     0.,     0.,   360.,     0.,     0.,     0.,\n",
       "         216.,   144.,   120.,   120.])"
      ]
     },
     "execution_count": 25,
     "metadata": {},
     "output_type": "execute_result"
    }
   ],
   "source": [
    "from scipy import optimize\n",
    "\n",
    "c = np.array([0.8,1.2,1.5,1.6,1.9,2.1, 1.3,1.9,1.05,0.8,1.5,1.7])\n",
    "\n",
    "optimize.linprog(c,None,None,A_eq,b_eq)"
   ]
  },
  {
   "cell_type": "code",
   "execution_count": 26,
   "metadata": {},
   "outputs": [
    {
     "data": {
      "text/plain": [
       "     fun: 2320.8000000000002\n",
       " message: 'Optimization terminated successfully.'\n",
       "     nit: 9\n",
       "   slack: array([], dtype=float64)\n",
       "  status: 0\n",
       " success: True\n",
       "       x: array([ 1224.,   216.,   216.,   144.,     0.,     0.,     0.,     0.,\n",
       "           0.,     0.,   480.,   120.])"
      ]
     },
     "execution_count": 26,
     "metadata": {},
     "output_type": "execute_result"
    }
   ],
   "source": [
    "c = np.array([0.8,1.2,1.5,1.6,1.9,2.1, 1.9,2.9,1.2,1.6,0.9,0.8])\n",
    "\n",
    "optimize.linprog(c,None,None,A_eq,b_eq)"
   ]
  },
  {
   "cell_type": "markdown",
   "metadata": {},
   "source": [
    "So if we look only at the returnables for the 1e year, the warehouse in the south is preferable."
   ]
  },
  {
   "cell_type": "code",
   "execution_count": null,
   "metadata": {
    "collapsed": true
   },
   "outputs": [],
   "source": []
  }
 ],
 "metadata": {
  "kernelspec": {
   "display_name": "Python 3",
   "language": "python",
   "name": "python3"
  },
  "language_info": {
   "codemirror_mode": {
    "name": "ipython",
    "version": 3
   },
   "file_extension": ".py",
   "mimetype": "text/x-python",
   "name": "python",
   "nbconvert_exporter": "python",
   "pygments_lexer": "ipython3",
   "version": "3.6.1"
  }
 },
 "nbformat": 4,
 "nbformat_minor": 2
}
