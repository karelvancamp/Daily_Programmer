{
 "cells": [
  {
   "cell_type": "code",
   "execution_count": 213,
   "metadata": {},
   "outputs": [
    {
     "name": "stdout",
     "output_type": "stream",
     "text": [
      "Atta 1098151009\n",
      "ck a 1667965025\n",
      "t da 1948279905\n",
      "wn 2003697664\n",
      "True\n",
      "6$.3W 1098151009\n",
      "@r!2q 1667965025\n",
      "F<G+& 1948279905\n",
      "GA[ 2003694800\n",
      "False\n"
     ]
    }
   ],
   "source": [
    "def encode_4byte(a_string):\n",
    "    result = []\n",
    "    thirtytwo_bit = sum(ord(x) * 2**(8*(3-ix)) for ix,x in enumerate(a_string))  \n",
    "    print(a_string,thirtytwo_bit)\n",
    "    for x in range(4,len(a_string)%4-1,-1):\n",
    "        result.append(chr(thirtytwo_bit // 85**x + 33))\n",
    "        thirtytwo_bit %= 85**x\n",
    "    return ''.join(result)\n",
    "\n",
    "def decode_5byte(a_string):\n",
    "    result = []\n",
    "    thirtytwo_bit = sum((ord(x)-33) * 85**(4-ix) for ix,x in enumerate(a_string))  \n",
    "    print(a_string,thirtytwo_bit)\n",
    "    for ix,x in enumerate(a_string):\n",
    "        result.append(chr(int(thirtytwo_bit // 2**(8*(3-ix)))))\n",
    "        thirtytwo_bit %= 2**(8*(3-ix))     \n",
    "    return ''.join(result)\n",
    "\n",
    "def code_ASCII85(a_string,n,function):    \n",
    "    n_bytes = ceil(len(a_string)/n) \n",
    "    return ''.join(function(a_string[x*n:(x+1)*n]) for x in range(n_bytes))\n",
    "\n",
    "def encode_ASCII85(a_string):\n",
    "    return code_ASCII85(a_string,4,encode_4byte)\n",
    "\n",
    "def decode_ASCII85(a_string):\n",
    "    return code_ASCII85(a_string,5,decode_5byte)\n",
    "\n",
    "\n",
    "print(encode_ASCII85('Attack at dawn') == '6$.3W@r!2qF<G+&GA[')\n",
    "print(decode_ASCII85('6$.3W@r!2qF<G+&GA[') == 'Attack at dawn')"
   ]
  },
  {
   "cell_type": "code",
   "execution_count": 209,
   "metadata": {},
   "outputs": [
    {
     "data": {
      "text/plain": [
       "('0b1110111011011100000000000000000',\n",
       " '0b1110111011011011111010011010000',\n",
       " '0b1110110001110111011001001000110')"
      ]
     },
     "execution_count": 209,
     "metadata": {},
     "output_type": "execute_result"
    }
   ],
   "source": [
    "bin(2003697664),bin(2003694800),bin(1983623750)"
   ]
  },
  {
   "cell_type": "code",
   "execution_count": 533,
   "metadata": {},
   "outputs": [
    {
     "data": {
      "text/plain": [
       "['6$.3W@r!2qF<G+&GA[',\n",
       " 'Hello, world!',\n",
       " '/r/dailyprogrammer',\n",
       " 'Four score and seven years ago ...',\n",
       " '9lFl\"+EM+3A0>E$Ci!O#F!1',\n",
       " 'All\\r\\nyour\\r\\nbase\\tbelong\\tto\\tus!']"
      ]
     },
     "execution_count": 533,
     "metadata": {},
     "output_type": "execute_result"
    }
   ],
   "source": [
    "from itertools import chain\n",
    "from collections import deque\n",
    "\n",
    "def encode_4byte(a_string):\n",
    "    result = deque()\n",
    "    thirtytwo_bit = sum(ord(x)*256**ix for ix,x in enumerate(a_string[::-1]))     \n",
    "    for x in range(5):\n",
    "        thirtytwo_bit,char = divmod(thirtytwo_bit,85)\n",
    "        result.appendleft(char + 33)\n",
    "    return result\n",
    "\n",
    "def decode_5byte(a_string):\n",
    "    result = deque()\n",
    "    thirtytwo_bit = sum((ord(x)-33)*85**ix for ix,x in enumerate(a_string[::-1]))\n",
    "    for x in range(4):\n",
    "        thirtytwo_bit,char = divmod(thirtytwo_bit,256)\n",
    "        result.appendleft(char)\n",
    "    return result\n",
    "\n",
    "def chop(a_string,n,function):    \n",
    "    n_bytes = len(a_string)//n\n",
    "    return (function(a_string[x*n:(x+1)*n]) for x in range(n_bytes))\n",
    "\n",
    "def encode_ASCII85(a_string):\n",
    "    x = 0\n",
    "    if len(a_string)%4:\n",
    "        x = 4 - len(a_string)%4\n",
    "        a_string += chr(0)*x\n",
    "    a_chain = chain.from_iterable(chop(a_string,4,encode_4byte))\n",
    "    return ''.join(map(chr,a_chain))[:-x]\n",
    "\n",
    "def decode_ASCII85(a_string):\n",
    "    x = 0\n",
    "    if len(a_string)%5:\n",
    "        x = 5 - len(a_string)%5\n",
    "        a_string += chr(85 + 33)*x\n",
    "    a_chain = chain.from_iterable(chop(a_string,5,decode_5byte))\n",
    "    return ''.join(map(chr,a_chain))[:-x]\n",
    "    \n",
    "\n",
    "challange = [\"e Attack at dawn\",\n",
    "             \"d 87cURD_*#TDfTZ)+T\",\n",
    "             \"d 06/^V@;0P'E,ol0Ea`g%AT@\",\n",
    "             \"d 7W3Ei+EM%2Eb-A%DIal2AThX&+F.O,EcW@3B5\\\\nF/hR\",\n",
    "             \"e Mom, send dollars!\",\n",
    "             \"d 6#:?H$@-Q4EX`@b@<5ud@V'@oDJ'8tD[CQ-+T\"]\n",
    "\n",
    "does = {'d':decode_ASCII85,'e':encode_ASCII85}\n",
    "\n",
    "[does[x[0]](x[2:]) for x in challange]\n"
   ]
  },
  {
   "cell_type": "code",
   "execution_count": 394,
   "metadata": {
    "collapsed": true
   },
   "outputs": [],
   "source": [
    "def a85e(s):\n",
    "    # Ascii85 encode\n",
    "    # 0. NULL byte pad as needed\n",
    "    s = (s + '\\0\\0\\0\\0')[:4]\n",
    "    # 1. convert characters to ASCII ordinal\n",
    "    # 2. convert those to 8-bit binary representations\n",
    "    # 3. concatenate into one big 32-bit binary string\n",
    "    # 4. convert to an integer\n",
    "    i = int(''.join(map(lambda x: '%08d' % int(x.replace('0b', '')), map(bin, map(ord, s)))), 2)\n",
    "    res = []\n",
    "    # 5. decompose by powers of 85\n",
    "    for f in map(lambda x,y: x**y, zip((85, 85, 85, 85, 85), range(4,-1,-1)) ):\n",
    "        x, i = divmod(i, f)\n",
    "        res.append(x)\n",
    "    # 6. add 33 to each ASCII value\n",
    "    # 7. convert to ASCII characters\n",
    "    return ''.join(map(chr, map(lambda x: x+33, res)))"
   ]
  },
  {
   "cell_type": "code",
   "execution_count": 513,
   "metadata": {},
   "outputs": [
    {
     "data": {
      "text/plain": [
       "['0b110001', '0b110011']"
      ]
     },
     "execution_count": 513,
     "metadata": {},
     "output_type": "execute_result"
    }
   ],
   "source": [
    "[x for x in map(bin,map(ord,['1','3']))]"
   ]
  },
  {
   "cell_type": "code",
   "execution_count": null,
   "metadata": {
    "collapsed": true
   },
   "outputs": [],
   "source": []
  }
 ],
 "metadata": {
  "kernelspec": {
   "display_name": "Python 3",
   "language": "python",
   "name": "python3"
  },
  "language_info": {
   "codemirror_mode": {
    "name": "ipython",
    "version": 3
   },
   "file_extension": ".py",
   "mimetype": "text/x-python",
   "name": "python",
   "nbconvert_exporter": "python",
   "pygments_lexer": "ipython3",
   "version": "3.6.1"
  }
 },
 "nbformat": 4,
 "nbformat_minor": 2
}
