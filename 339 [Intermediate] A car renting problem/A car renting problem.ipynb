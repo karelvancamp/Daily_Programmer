{
 "cells": [
  {
   "cell_type": "markdown",
   "metadata": {},
   "source": [
    "# Problem\n",
    "\n",
    "[Dailyprogrammer challange](https://www.reddit.com/r/dailyprogrammer/comments/7btzrw/20171108_challenge_339_intermediate_a_car_renting/)\n",
    "\n",
    "A carriage company is renting cars and there is a particular car for which the interest is the highest so the company decides to book the requests one year in advance. We represent a request with a tuple (x, y) where x is the first day of the renting and y is the last. Your goal is to come up with an optimum strategy where you serve the **most number of requests**.\n",
    "\n",
    "The first line of the input will be n the number of requests. The following two lines will consist of n numbers for the starting day of the renting, followed by another n numbers for the last day of the renting corresponding\n",
    "\n",
    "The output should be the maximum number of the feasable requests and the list of these requests. "
   ]
  },
  {
   "cell_type": "markdown",
   "metadata": {},
   "source": [
    "# Method\n",
    "\n",
    "Treat the problem as a weighted directed graph with negative values, where all start and end days are the nodes. There are 2 types of edges. Those connecting the start and end of a customer request (Mr), and those connecting consequetive days (Mp). Mr's have weight -1, Mp's have weight 0. The shortest path between the smallest node and largest node is the solution to the problem (maximum number of fullfilled requests). \n",
    "\n",
    "There exist no backward edges (from high to lower node), there can be no cycles. The graph is connected by construction (Mp's).\n",
    "\n",
    "So all the requirements for Bellman-Ford are fullfilled. As there can be no negative cycles by construction, this does not have to be checked."
   ]
  },
  {
   "cell_type": "code",
   "execution_count": 2,
   "metadata": {
    "collapsed": true
   },
   "outputs": [],
   "source": [
    "import random\n",
    "\n",
    "size = 200\n",
    "\n",
    "C = [random.randint(1,364) for x in range(size)]\n",
    "D = [[x,random.randint(x+1,365)] for x in C]\n",
    "E = str(size)+'\\n'+' '.join(str(x[0]) for x in D)+'\\n'+' '.join(str(x[1]) for x in D)\n",
    "\n",
    "starts = [x[0] for x in D]\n",
    "ends = [x[1] for x in D]"
   ]
  },
  {
   "cell_type": "code",
   "execution_count": 5,
   "metadata": {},
   "outputs": [
    {
     "data": {
      "text/plain": [
       "(19,\n",
       " deque([[4, 38],\n",
       "        [66, 78],\n",
       "        [84, 93],\n",
       "        [98, 104],\n",
       "        [127, 153],\n",
       "        [157, 175],\n",
       "        [179, 193],\n",
       "        [198, 209],\n",
       "        [211, 229],\n",
       "        [236, 265],\n",
       "        [265, 268],\n",
       "        [277, 278],\n",
       "        [283, 285],\n",
       "        [289, 297],\n",
       "        [305, 310],\n",
       "        [315, 323],\n",
       "        [323, 337],\n",
       "        [337, 359],\n",
       "        [359, 364]]))"
      ]
     },
     "execution_count": 5,
     "metadata": {},
     "output_type": "execute_result"
    }
   ],
   "source": [
    "from collections import defaultdict, deque\n",
    "import numpy as np\n",
    "\n",
    "def prepare_data(an_input):\n",
    "    prepare = [[int(x) for x in line.split(' ')] for line in an_input.split('\\n')]\n",
    "    # bonus: assumes when start > end, booking spans entire year \n",
    "    for ix,x in enumerate(prepare[1]):\n",
    "        if x > prepare[2][ix]:\n",
    "            prepare[2][ix] += 366\n",
    "    \n",
    "    vertices = sorted(list(set(prepare[1]+prepare[2])))\n",
    "    edges = []\n",
    "    for start,end in zip(vertices,vertices[1:]):\n",
    "        edges += [[start,end,0]]\n",
    "    for start,end in zip(prepare[1],prepare[2]):\n",
    "        edges += [[start,end,-1]]\n",
    "    return vertices,edges\n",
    "\n",
    "vertices,edges = prepare_data('10\\n1 12 5 12 13 40 30 22 70 19\\n23 10 10 29 25 66 35 33 100 65')\n",
    "\n",
    "\n",
    "def BellmanFord_without_neg_cycles(E):\n",
    "\n",
    "    vertices,edges = prepare_data(E)\n",
    "    source=vertices[0]\n",
    "    \n",
    "    distance = defaultdict()\n",
    "    predecessor = defaultdict()\n",
    "\n",
    "    for vertice in vertices:\n",
    "        distance[vertice] = np.inf           \n",
    "        predecessor[vertice] = np.nan        \n",
    "    distance[source] = 0              \n",
    "   \n",
    "    for vertice in vertices[1:]:\n",
    "        for edge in edges:\n",
    "            start = edge[0]\n",
    "            end = edge[1]\n",
    "            weight = edge[2]\n",
    "            if distance[start] + weight < distance[end]:\n",
    "                distance[end] = distance[start] + weight\n",
    "                predecessor[end] = start\n",
    "    \n",
    "    last = vertices[-1]\n",
    "    path_distance = distance[last]\n",
    "    path = deque()\n",
    "    while path_distance:\n",
    "        if path_distance < distance[predecessor[last]]:\n",
    "            path.appendleft([predecessor[last],last])\n",
    "            path_distance += 1\n",
    "        last = predecessor[last]\n",
    "    \n",
    "    return len(path),path\n",
    "\n",
    "BellmanFord_without_neg_cycles(E)"
   ]
  },
  {
   "cell_type": "code",
   "execution_count": null,
   "metadata": {
    "collapsed": true
   },
   "outputs": [],
   "source": []
  },
  {
   "cell_type": "code",
   "execution_count": 66,
   "metadata": {},
   "outputs": [
    {
     "name": "stdout",
     "output_type": "stream",
     "text": [
      "Wall time: 14.7 s\n"
     ]
    }
   ],
   "source": [
    "%%time\n",
    "\n",
    "import random\n",
    "\n",
    "size = 30\n",
    "\n",
    "for runit in range(5000):\n",
    "\n",
    "    C = [random.randint(1,364) for x in range(size)]\n",
    "    D = [[x,random.randint(x+1,365)] for x in C]\n",
    "    E = str(size)+'\\n'+' '.join(str(x[0]) for x in D)+'\\n'+' '.join(str(x[1]) for x in D)\n",
    "\n",
    "    starts = [x[0] for x in D]\n",
    "    ends = [x[1] for x in D]\n",
    "\n",
    "    requests = size\n",
    "    startingDays = starts\n",
    "    endingDays = ends\n",
    "\n",
    "    days = []\n",
    "\n",
    "    for i in range(0,requests):\n",
    "        days.append([int(startingDays[i]),int(endingDays[i])])\n",
    "\n",
    "    days = sorted(days,key=lambda x: (x[1]))\n",
    "\n",
    "    optimal = []\n",
    "    optimal.append([0,0])\n",
    "    counter = 0;\n",
    "    \n",
    "    for day in days:\n",
    "    \n",
    "        if(optimal[counter][1] <= day[0]):\n",
    "            optimal.append(day)\n",
    "            counter+=1  \n",
    "    \n",
    "    if len(optimal)-1 - BellmanFord_without_neg_cycles(E):\n",
    "        print('lola')"
   ]
  },
  {
   "cell_type": "code",
   "execution_count": null,
   "metadata": {
    "collapsed": true
   },
   "outputs": [],
   "source": [
    "4.4 s 90.5 ms"
   ]
  }
 ],
 "metadata": {
  "kernelspec": {
   "display_name": "Python 3",
   "language": "python",
   "name": "python3"
  },
  "language_info": {
   "codemirror_mode": {
    "name": "ipython",
    "version": 3
   },
   "file_extension": ".py",
   "mimetype": "text/x-python",
   "name": "python",
   "nbconvert_exporter": "python",
   "pygments_lexer": "ipython3",
   "version": "3.6.1"
  }
 },
 "nbformat": 4,
 "nbformat_minor": 2
}
