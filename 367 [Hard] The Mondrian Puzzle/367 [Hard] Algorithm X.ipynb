{
 "cells": [
  {
   "cell_type": "markdown",
   "metadata": {},
   "source": [
    "Inspired by Gabyjuniors post, I looked into the exact cover approach for the Mondriaan puzzle. This allows for an exact solver, though at considerable cost for processing time.\n",
    "\n",
    "- Every coordinate of the square is a point. \n",
    "- The posistions of a rectangle is a family of covers of these points.\n",
    "- Add the constraint that each rectangle has an additional ID node to avoid using the same rectangle twice.\n",
    "\n",
    "I used the Algorithm X approach as I have not used it before. \n",
    "\n",
    "An alternative would be to use a linear programming solver. This would be better for performance as there exist highly optimized libraries for these."
   ]
  },
  {
   "cell_type": "code",
   "execution_count": 1,
   "metadata": {
    "collapsed": true
   },
   "outputs": [],
   "source": [
    "# Knuth's Algorithm X (dancing links) for solving an exact cover problem\n",
    "\n",
    "def solve(X, Y, solution=[]):\n",
    "    \"\"\"\n",
    "    A variation of the dancing links alogrithm for the exact cover problem.\n",
    "    X is a dict containing sets of objects contained per node\n",
    "    Y is a dict containing a list of all nodes contained in an object\n",
    "    It returns an iterable of the solutions to the exact cover problem.\n",
    "    \"\"\"\n",
    "    if not X:\n",
    "        yield list(solution)\n",
    "    else:\n",
    "        c = min(X, key=lambda c: len(X[c]))\n",
    "        for r in list(X[c]):\n",
    "            solution.append(r)\n",
    "            cols = select(X, Y, r)\n",
    "            for s in solve(X, Y, solution):\n",
    "                yield s\n",
    "            deselect(X, Y, r, cols)\n",
    "            solution.pop()\n",
    "            \n",
    "def select(X, Y, r):\n",
    "        cols = []\n",
    "        for j in Y[r]:\n",
    "            for i in X[j]:\n",
    "                for k in Y[i]:\n",
    "                    if k != j:\n",
    "                        X[k].remove(i)\n",
    "            cols.append(X.pop(j))\n",
    "        return cols\n",
    "def deselect(X, Y, r, cols):\n",
    "        for j in reversed(Y[r]):\n",
    "            X[j] = cols.pop()\n",
    "            for i in X[j]:\n",
    "                for k in Y[i]:\n",
    "                    if k != j:\n",
    "                        X[k].add(i)"
   ]
  },
  {
   "cell_type": "code",
   "execution_count": 2,
   "metadata": {},
   "outputs": [
    {
     "data": {
      "text/plain": [
       "['B', 'D', 'F']"
      ]
     },
     "execution_count": 2,
     "metadata": {},
     "output_type": "execute_result"
    }
   ],
   "source": [
    "# Wiki example\n",
    "\n",
    "I = {1, 2, 3, 4, 5, 6, 7}\n",
    "Y = {\n",
    "    'A': [1, 4, 7],\n",
    "    'B': [1, 4],\n",
    "    'C': [4, 5, 7],\n",
    "    'D': [3, 5, 6],\n",
    "    'E': [2, 3, 6, 7],\n",
    "    'F': [2, 7]}\n",
    "\n",
    "X = {j: set() for j in I}\n",
    "for i in Y:\n",
    "    for j in Y[i]:\n",
    "        X[j].add(i)\n",
    "\n",
    "next(solve(X, Y, solution=[]))"
   ]
  },
  {
   "cell_type": "code",
   "execution_count": 3,
   "metadata": {},
   "outputs": [
    {
     "data": {
      "text/plain": [
       "['D1', 'A2']"
      ]
     },
     "execution_count": 3,
     "metadata": {},
     "output_type": "execute_result"
    }
   ],
   "source": [
    "# Applied to rectangle positions\n",
    "\n",
    "I = {'a','d',1,2,3,4}\n",
    "Y = {'A0':['a',1,2],\n",
    "     'A1':['a',1,3],\n",
    "     'A2':['a',3,4],\n",
    "     'A3':['a',2,4],\n",
    "     'D1':['d',1,2]\n",
    "    }\n",
    "\n",
    "X = {j: set() for j in I}\n",
    "for i in Y:\n",
    "    for j in Y[i]:\n",
    "        X[j].add(i)\n",
    "        \n",
    "next(solve(X, Y, solution=[]))"
   ]
  },
  {
   "cell_type": "code",
   "execution_count": 4,
   "metadata": {},
   "outputs": [
    {
     "name": "stdout",
     "output_type": "stream",
     "text": [
      "countdown started\n",
      "1, 0, countdown finished\n",
      "countdown started\n",
      "4, 3, 2, 1, countdown interrupted\n"
     ]
    }
   ],
   "source": [
    "# https://stackoverflow.com/questions/492519/timeout-on-a-function-call\n",
    "\n",
    "from __future__ import print_function\n",
    "import sys\n",
    "import threading\n",
    "from time import sleep\n",
    "\n",
    "try:\n",
    "    import thread\n",
    "except ImportError:\n",
    "    import _thread as thread\n",
    "\n",
    "def quit_function(fn_name):\n",
    "    thread.interrupt_main() # raises KeyboardInterrupt\n",
    "    \n",
    "def exit_after(s):\n",
    "    '''\n",
    "    use as decorator to exit process if \n",
    "    function takes longer than s seconds\n",
    "    '''\n",
    "    def outer(fn):\n",
    "        def inner(*args, **kwargs):\n",
    "            timer = threading.Timer(s, quit_function, args=[fn.__name__])\n",
    "            timer.start()\n",
    "            try:\n",
    "                result = fn(*args, **kwargs)\n",
    "            finally:\n",
    "                timer.cancel()\n",
    "            return result\n",
    "        return inner\n",
    "    return outer\n",
    "\n",
    "@exit_after(5)\n",
    "def countdown(n):\n",
    "    print('countdown started', flush=True)\n",
    "    for i in range(n, -1, -1):\n",
    "        sleep(1)\n",
    "        print(i, end=', ', flush=True)\n",
    "\n",
    "    print('countdown finished')\n",
    " \n",
    "countdown(1)\n",
    "try:\n",
    "    countdown(4)\n",
    "except:\n",
    "    print('countdown interrupted')"
   ]
  },
  {
   "cell_type": "code",
   "execution_count": 5,
   "metadata": {
    "collapsed": true
   },
   "outputs": [],
   "source": [
    "# Could be generalized to an exact cover problem \n",
    "# for objects in any object rather than objects in a square\n",
    "\n",
    "from collections import defaultdict\n",
    "from itertools import product\n",
    "\n",
    "def positions_in_square(objects, square_size):\n",
    "    \"\"\"\n",
    "    Translates an iterable of objects (pentonimos, rectangles, ...)\n",
    "    to all valid posistions in a square.\n",
    "    \n",
    "    The objects are an iterable of tiles,\n",
    "    each described by a coordinate tuple. \n",
    "    It is assumed a (0,0) coordinate is included for each object.\n",
    "    \n",
    "    Projects coordinates to integers.\n",
    "    \"\"\"\n",
    "    region_set = set(product(range(square_size), repeat=2))\n",
    "    max_ = square_size**2\n",
    "    region = list(region_set)\n",
    "    positions = defaultdict(set)\n",
    "    for ix, tiles in enumerate(objects):\n",
    "        \n",
    "        for (oi, oj), ri, rj, rk in product(region, (-1, +1), (-1, +1), (0, 1)):\n",
    "            # Place origin of piece at oi, oj, reflecting vertically\n",
    "            # if ri == -1, horizontally if rj == -1, and diagonally if\n",
    "            # rk == 1.\n",
    "            placing = []\n",
    "            for t in tiles:\n",
    "                p = ri * t[rk] + oi, rj * t[1-rk] + oj\n",
    "                if p not in region_set:\n",
    "                    break\n",
    "                placing.append(p[0]*square_size+p[1])\n",
    "            else:\n",
    "                placing = tuple(sorted(placing, reverse=True))\n",
    "                positions[ix].add(placing)\n",
    "                \n",
    "    return positions\n",
    "\n",
    "def positions_to_constraints(positions):\n",
    "    \"\"\"\n",
    "    Takes a dict of positions of objects\n",
    "    Returns the positions as cover constraints, \n",
    "    where the same objects can not coexist with an alternate position.\n",
    "    \"\"\"\n",
    "    nodes = defaultdict(set)\n",
    "    objects = defaultdict(tuple)\n",
    "    \n",
    "    c = 0\n",
    "    for x,y in positions.items():\n",
    "        for z in y:\n",
    "            c += 1\n",
    "            for i in z:\n",
    "                nodes[i].add(c)\n",
    "            nodes[-x-1].add(c)\n",
    "            objects[c] = (-x-1,)+z\n",
    "        # allow not-used objects\n",
    "        c += 1\n",
    "        nodes[-x-1].add(c)\n",
    "        objects[c] = (-x-1,)\n",
    "    return nodes, objects\n",
    "\n",
    "@exit_after(10)\n",
    "def solution(objects,square_size):\n",
    "    \"\"\"\n",
    "    Takes a list of objects and a square size, \n",
    "    and retuns an exact cover if there eixsts one.\n",
    "    \"\"\"\n",
    "    p = positions_in_square(objects,square_size)\n",
    "    X,Y = positions_to_constraints(p)\n",
    "    try: \n",
    "        return [[divmod(x,square_size) for x in Y[y][1:]] \n",
    "                for y in next(solve(X,Y, solution=[]))]\n",
    "    except: \n",
    "        return False"
   ]
  },
  {
   "cell_type": "code",
   "execution_count": 6,
   "metadata": {},
   "outputs": [
    {
     "name": "stdout",
     "output_type": "stream",
     "text": [
      "[[(2, 2), (2, 1), (1, 2), (1, 1)], [], [(2, 0), (1, 0)], [(0, 2), (0, 1), (0, 0)]]\n",
      "1 loop, best of 1: 7.83 ms per loop\n"
     ]
    }
   ],
   "source": [
    "objects = [((0,-1),(0,0)),\n",
    "           ((0,0),(0,1),(1,0),(1,1)),\n",
    "           ((0,0),(0,1),(1,0),(1,1)),\n",
    "           ((0,0),(0,1),(0,2)),]\n",
    "\n",
    "square_size = 3\n",
    "\n",
    "%timeit -n1 -r1 print(solution(objects,square_size))"
   ]
  },
  {
   "cell_type": "code",
   "execution_count": 7,
   "metadata": {
    "collapsed": true
   },
   "outputs": [],
   "source": [
    "# Rectangles only have 2 symmetries, rather than 8 for a random 2d object.\n",
    "\n",
    "def positions_in_square(objects, square_size):\n",
    "    \"\"\"\n",
    "    Translates an iterable of rectangles\n",
    "    to all valid posistions in a square.\n",
    "    \n",
    "    The rectangles are an iterable of tiles,\n",
    "    each described by a coordinate tuple. \n",
    "    It is assumed a (0,0) coordinate is included for each rectangle.\n",
    "    \n",
    "    Projects coordinates to integers.\n",
    "    \"\"\"\n",
    "    region_set = set(product(range(square_size), repeat=2))\n",
    "    max_ = square_size**2\n",
    "    region = list(region_set)\n",
    "    positions = defaultdict(set)\n",
    "    for ix, tiles in enumerate(objects):\n",
    "        for (oi, oj), rk in product(region, (0, 1)):\n",
    "            # Reflect diagonally if rk = 1\n",
    "            placing = []\n",
    "            for t in tiles:\n",
    "                p = t[rk] + oi, t[1-rk] + oj\n",
    "                if p not in region_set:\n",
    "                    break\n",
    "                placing.append(p[0]*square_size+p[1])\n",
    "            else:\n",
    "                placing = tuple(sorted(placing))\n",
    "                positions[ix].add(placing)\n",
    "                \n",
    "    return positions"
   ]
  },
  {
   "cell_type": "code",
   "execution_count": 8,
   "metadata": {},
   "outputs": [
    {
     "name": "stdout",
     "output_type": "stream",
     "text": [
      "[[(1, 1), (1, 2), (2, 1), (2, 2)], [], [(0, 1), (0, 2)], [(0, 0), (1, 0), (2, 0)]]\n",
      "1 loop, best of 1: 2.1 ms per loop\n"
     ]
    }
   ],
   "source": [
    "objects = [((0,-1),(0,0)),\n",
    "           ((0,0),(0,1),(1,0),(1,1)),\n",
    "           ((0,0),(0,1),(1,0),(1,1)),\n",
    "           ((0,0),(0,1),(0,2)),]\n",
    "\n",
    "square_size = 3\n",
    "\n",
    "%timeit -n1 -r1 print(solution(objects,square_size))"
   ]
  },
  {
   "cell_type": "code",
   "execution_count": 9,
   "metadata": {
    "collapsed": true
   },
   "outputs": [],
   "source": [
    "from math import ceil\n",
    "from itertools import combinations_with_replacement as cwr\n",
    "\n",
    "def mulx(x):\n",
    "    return x[0]*x[1]\n",
    "\n",
    "def minx(x):\n",
    "    return x[0]-x[1]\n",
    "\n",
    "def upper_bound(n):\n",
    "    mx = ceil(((n**2)/3)**0.5)\n",
    "    return (mx,mx),(n,n-mx),(n-mx,mx)\n",
    "\n",
    "def limits_bound(n):\n",
    "    a,b,c = map(mulx,upper_bound(n))\n",
    "    return max(a,b,c), min(a,b,c)\n",
    "\n",
    "def rectangles(n):\n",
    "    a,b = limits_bound(n)\n",
    "    return [x for x in cwr(range(1,n+1),2) if 1 < mulx(x) <= a]\n",
    "\n",
    "def rectangles_to_tiles(R):\n",
    "    return [list(product(range(x),range(y))) for x,y in R]\n",
    "\n",
    "def cover_cost(a_solution):\n",
    "    c = [len(x) for x in a_solution if x]\n",
    "    return max(c)-min(c)\n"
   ]
  },
  {
   "cell_type": "code",
   "execution_count": 10,
   "metadata": {},
   "outputs": [
    {
     "data": {
      "text/plain": [
       "(16, 8)"
      ]
     },
     "execution_count": 10,
     "metadata": {},
     "output_type": "execute_result"
    }
   ],
   "source": [
    "limits_bound(6)"
   ]
  },
  {
   "cell_type": "code",
   "execution_count": 11,
   "metadata": {},
   "outputs": [
    {
     "data": {
      "text/plain": [
       "defaultdict(list,\n",
       "            {1: [[(3, 3), (2, 4)]],\n",
       "             3: [[(3, 3), (2, 4), (2, 3)], [(2, 3), (1, 4), (2, 2), (1, 3)]],\n",
       "             4: [[(2, 4), (2, 3), (2, 2)],\n",
       "              [(2, 4), (2, 3), (1, 4), (2, 2)],\n",
       "              [(2, 3), (1, 4), (2, 2), (1, 3), (1, 2)]],\n",
       "             5: [[(3, 3), (2, 4), (2, 3), (2, 2)],\n",
       "              [(3, 3), (2, 4), (2, 3), (1, 4), (2, 2)],\n",
       "              [(2, 4), (2, 3), (1, 4), (2, 2), (1, 3)]],\n",
       "             6: [[(3, 3), (2, 4), (2, 3), (1, 4), (2, 2), (1, 3)],\n",
       "              [(2, 4), (2, 3), (1, 4), (2, 2), (1, 3), (1, 2)]]})"
      ]
     },
     "execution_count": 11,
     "metadata": {},
     "output_type": "execute_result"
    }
   ],
   "source": [
    "def surface_ranges(n):   \n",
    "    r = sorted(rectangles(n),key = lambda x:mulx(x))\n",
    "    p = []\n",
    "    for ix,_ in enumerate(r):\n",
    "        for iy,_ in enumerate(r):\n",
    "            v = r[ix:iy+1]\n",
    "            if sum(mulx(x) for x in v) >= n**2:\n",
    "                p.append(sorted(v,key = lambda x:mulx(x), reverse=True))\n",
    "    return p\n",
    "\n",
    "def run(n):\n",
    "    p = surface_ranges(n)\n",
    "    p = [(mulx(x[0])-mulx(x[-1]),x) for x in p]\n",
    "    limit = minx(limits_bound(n))\n",
    "    d = defaultdict(list)\n",
    "    for x,y in p:\n",
    "        if 0 < x <= limit:\n",
    "            d[x].append(y)\n",
    "    for x,y in d.items():\n",
    "        y.sort(key=lambda x:(1/len(x),mulx(x[0])), reverse=True)\n",
    "    return d\n",
    "run(4)"
   ]
  },
  {
   "cell_type": "code",
   "execution_count": 28,
   "metadata": {},
   "outputs": [
    {
     "data": {
      "text/plain": [
       "(4, 4)"
      ]
     },
     "execution_count": 28,
     "metadata": {},
     "output_type": "execute_result"
    }
   ],
   "source": [
    "def mondriaan(n):\n",
    "    a,b = limits_bound(n)\n",
    "    limit = a-b\n",
    "    ranges = run(n)\n",
    "    limits = sorted([x for x in ranges.keys() if x <= limit])\n",
    "\n",
    "    while limits:\n",
    "        changed = False\n",
    "        limit = limits.pop()\n",
    "        for a_range in ranges[limit]:\n",
    "            try:\n",
    "                v = solution(rectangles_to_tiles(a_range),n)\n",
    "            except:\n",
    "                v = None\n",
    "            if v:\n",
    "                last_sol = cover_cost(v)\n",
    "                while limits and limits[-1] >= last_sol:\n",
    "                    limits.pop()\n",
    "                changed = True\n",
    "                break\n",
    "\n",
    "    return n,last_sol\n",
    "\n",
    "mondriaan(4)"
   ]
  },
  {
   "cell_type": "code",
   "execution_count": null,
   "metadata": {},
   "outputs": [
    {
     "name": "stdout",
     "output_type": "stream",
     "text": [
      "(3, 2)\n",
      "1 loop, best of 1: 8.76 ms per loop\n",
      "(4, 4)\n",
      "1 loop, best of 1: 57 ms per loop\n",
      "(5, 4)\n",
      "1 loop, best of 1: 9.8 ms per loop\n",
      "(6, 5)\n",
      "1 loop, best of 1: 289 ms per loop\n",
      "(7, 5)\n",
      "1 loop, best of 1: 410 ms per loop\n",
      "(8, 6)\n",
      "1 loop, best of 1: 6.02 s per loop\n",
      "(9, 6)\n",
      "1 loop, best of 1: 1.66 s per loop\n",
      "(10, 8)\n",
      "1 loop, best of 1: 1min 40s per loop\n",
      "(11, 6)\n",
      "1 loop, best of 1: 31.9 s per loop\n",
      "(12, 7)\n",
      "1 loop, best of 1: 1min 38s per loop\n"
     ]
    }
   ],
   "source": [
    "for x in range(3,18):\n",
    "    %timeit -n1 -r1 print(mondriaan(x))"
   ]
  },
  {
   "cell_type": "code",
   "execution_count": 13,
   "metadata": {},
   "outputs": [],
   "source": [
    "# for x in [4,8,10,20]:\n",
    "#    %timeit -n1 -r1 print(mondriaan(x))"
   ]
  }
 ],
 "metadata": {
  "kernelspec": {
   "display_name": "Python 3",
   "language": "python",
   "name": "python3"
  },
  "language_info": {
   "codemirror_mode": {
    "name": "ipython",
    "version": 3
   },
   "file_extension": ".py",
   "mimetype": "text/x-python",
   "name": "python",
   "nbconvert_exporter": "python",
   "pygments_lexer": "ipython3",
   "version": "3.6.1"
  }
 },
 "nbformat": 4,
 "nbformat_minor": 2
}
