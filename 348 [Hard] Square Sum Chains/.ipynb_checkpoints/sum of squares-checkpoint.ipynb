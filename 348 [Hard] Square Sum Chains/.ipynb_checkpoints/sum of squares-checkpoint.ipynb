{
 "cells": [
  {
   "cell_type": "code",
   "execution_count": 10,
   "metadata": {},
   "outputs": [],
   "source": [
    "import numpy as np\n",
    "import os\n",
    "# assumes lkh.exe available in same root\n",
    "# lkh is not an exact solver\n",
    "\n",
    "def squares(target):\n",
    "    return [x**2 for x in range(2,int(target**0.5)+1)]\n",
    "\n",
    "def leRU(x):\n",
    "    if x > 0: return x\n",
    "    return 0\n",
    "\n",
    "def sums(square,size):\n",
    "    start = max(leRU(square-size),1)\n",
    "    return [(x,square-x) for x in range(start,square//2 + square%2)]\n",
    "\n",
    "def square_sums(size):\n",
    "    return [x for square in squares(2*size) for x in sums(square,size)]\n",
    "\n",
    "def tsp_array(size):\n",
    "    # hamiltonian path to TSP\n",
    "    arr = np.ones((size,size),int)*2\n",
    "    for x,y in square_sums(size):\n",
    "        arr[y-1,x-1] = 1\n",
    "    return arr\n",
    "\n",
    "# https://github.com/perrygeo\n",
    "\n",
    "template = \"\"\"\n",
    "NAME: {name}\n",
    "TYPE: TSP\n",
    "COMMENT: {name}\n",
    "DIMENSION: {n_cities}\n",
    "EDGE_WEIGHT_TYPE: EXPLICIT\n",
    "EDGE_WEIGHT_FORMAT: LOWER_DIAG_ROW\n",
    "EDGE_WEIGHT_SECTION\n",
    "{matrix_s}EOF\"\"\"\n",
    "\n",
    "def dumps_matrix(arr, name=\"Problem\"):\n",
    "    n_cities = arr.shape[0]\n",
    "    width = len(str(arr.max())) + 1\n",
    "\n",
    "    assert arr.shape[0] == arr.shape[1]\n",
    "    assert len(arr.shape) == 2\n",
    "\n",
    "    # space delimited string\n",
    "    matrix_s = \"\"\n",
    "    for i, row in enumerate(arr.tolist()):\n",
    "        matrix_s += \" \".join([\"{0:>{1}}\".format((int(elem)), width)\n",
    "                              for elem in row[:i+1]])\n",
    "        matrix_s += \"\\n\"\n",
    "\n",
    "    return template.format(**{'name': name,\n",
    "                              'n_cities': n_cities,\n",
    "                              'matrix_s': matrix_s})\n",
    "\n",
    "def run(size,tsp_file='problem.tsp'):\n",
    "    with open(tsp_file, 'w') as dest:\n",
    "        dest.write(dumps_matrix(tsp_array(size), name=\"Problem\"))\n",
    "        \n",
    "\n",
    "run(15)\n",
    "\n"
   ]
  },
  {
   "cell_type": "code",
   "execution_count": null,
   "metadata": {
    "collapsed": true
   },
   "outputs": [],
   "source": [
    "os."
   ]
  }
 ],
 "metadata": {
  "kernelspec": {
   "display_name": "Python 3",
   "language": "python",
   "name": "python3"
  },
  "language_info": {
   "codemirror_mode": {
    "name": "ipython",
    "version": 3
   },
   "file_extension": ".py",
   "mimetype": "text/x-python",
   "name": "python",
   "nbconvert_exporter": "python",
   "pygments_lexer": "ipython3",
   "version": "3.6.1"
  }
 },
 "nbformat": 4,
 "nbformat_minor": 2
}
