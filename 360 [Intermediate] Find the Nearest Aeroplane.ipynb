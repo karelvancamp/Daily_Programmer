{
 "cells": [
  {
   "cell_type": "markdown",
   "metadata": {},
   "source": [
    "## Description\n",
    "We want to find the closest airborne aeroplane to any given position in North America or Europe. To assist in this we can use an API which will give us the data on all currently airborne commercial aeroplanes in these regions.\n",
    "\n",
    "OpenSky's Network API can return to us all the data we need in a JSON format.\n",
    "\n",
    "https://opensky-network.org/api/states/all\n",
    "From this we can find the positions of all the planes and compare them to our given position.\n",
    "\n",
    "Use the basic Euclidean distance in your calculation.\n",
    "\n",
    "## Input\n",
    "A location in latitude and longitude, cardinal direction optional\n",
    "\n",
    "An API call for the live data on all aeroplanes\n",
    "\n",
    "## Output\n",
    "The output should include the following details on the closest airborne aeroplane:\n",
    "\n",
    "    Geodesic distance\n",
    "    Callsign\n",
    "    Lattitude and Longitude\n",
    "    Geometric Altitude\n",
    "    Country of origin\n",
    "    ICAO24 ID\n",
    "    \n",
    "## Challenge Inputs\n",
    "Eifel Tower:\n",
    "\n",
    "    48.8584 N\n",
    "    2.2945 E\n",
    "John F. Kennedy Airport:\n",
    "    \n",
    "    40.6413 N\n",
    "    73.7781 W\n",
    "## Bonus\n",
    "Replace your distance function with the geodesic distance formula, which is more accurate on the Earth's surface."
   ]
  },
  {
   "cell_type": "code",
   "execution_count": 17,
   "metadata": {},
   "outputs": [
    {
     "data": {
      "text/html": [
       "<div>\n",
       "<style>\n",
       "    .dataframe thead tr:only-child th {\n",
       "        text-align: right;\n",
       "    }\n",
       "\n",
       "    .dataframe thead th {\n",
       "        text-align: left;\n",
       "    }\n",
       "\n",
       "    .dataframe tbody tr th {\n",
       "        vertical-align: top;\n",
       "    }\n",
       "</style>\n",
       "<table border=\"1\" class=\"dataframe\">\n",
       "  <thead>\n",
       "    <tr style=\"text-align: right;\">\n",
       "      <th></th>\n",
       "      <th>icao24</th>\n",
       "      <th>callsign</th>\n",
       "      <th>origin_country</th>\n",
       "      <th>longitude</th>\n",
       "      <th>latitude</th>\n",
       "      <th>geo_altitude</th>\n",
       "      <th>euclid_dist</th>\n",
       "    </tr>\n",
       "  </thead>\n",
       "  <tbody>\n",
       "    <tr>\n",
       "      <th>628</th>\n",
       "      <td>344291</td>\n",
       "      <td>VLG242N</td>\n",
       "      <td>Spain</td>\n",
       "      <td>2.2841</td>\n",
       "      <td>48.9067</td>\n",
       "      <td>3962.40</td>\n",
       "      <td>5450.395702</td>\n",
       "    </tr>\n",
       "    <tr>\n",
       "      <th>729</th>\n",
       "      <td>3944f5</td>\n",
       "      <td>AFR1642</td>\n",
       "      <td>France</td>\n",
       "      <td>2.3480</td>\n",
       "      <td>48.7791</td>\n",
       "      <td>4899.66</td>\n",
       "      <td>9908.041979</td>\n",
       "    </tr>\n",
       "    <tr>\n",
       "      <th>264</th>\n",
       "      <td>3946ec</td>\n",
       "      <td>AFR14FR</td>\n",
       "      <td>France</td>\n",
       "      <td>2.3092</td>\n",
       "      <td>48.9808</td>\n",
       "      <td>914.40</td>\n",
       "      <td>13683.181596</td>\n",
       "    </tr>\n",
       "  </tbody>\n",
       "</table>\n",
       "</div>"
      ],
      "text/plain": [
       "     icao24  callsign origin_country  longitude  latitude  geo_altitude  \\\n",
       "628  344291  VLG242N           Spain     2.2841   48.9067       3962.40   \n",
       "729  3944f5  AFR1642          France     2.3480   48.7791       4899.66   \n",
       "264  3946ec  AFR14FR          France     2.3092   48.9808        914.40   \n",
       "\n",
       "      euclid_dist  \n",
       "628   5450.395702  \n",
       "729   9908.041979  \n",
       "264  13683.181596  "
      ]
     },
     "execution_count": 17,
     "metadata": {},
     "output_type": "execute_result"
    }
   ],
   "source": [
    "import requests\n",
    "import pandas as pd\n",
    "from math import sin,cos,radians\n",
    "\n",
    "\n",
    "link = r'https://opensky-network.org/api/states/all'\n",
    "\n",
    "cols = \"\"\"icao24,callsign,origin_country,time_position,last_contact,longitude,latitude,geo_altitude,on_ground,velocity,heading,vertical_rate,sensors,baro_altitude,squawk,spi,position_source\"\"\".split(',')\n",
    "keep = \"\"\"icao24,callsign,origin_country,longitude,latitude,geo_altitude\"\"\".split(',')\n",
    "\n",
    "def get_closest(longitude, latitude):\n",
    "    \n",
    "    r_earth = 6378136\n",
    "    b = (r_earth,radians(longitude),radians(latitude))\n",
    "    \n",
    "    def rad(F,p):\n",
    "        F['r_' + p] = F[p].apply(lambda x: radians(x))\n",
    "\n",
    "    def euclid_polar(a):\n",
    "        # polar coordinates: radius, angle1, angle2\n",
    "        ar, a1, a2 = a\n",
    "        br, b1, b2 = b\n",
    "        return 2**0.5 * ar *(1 - sin(a2)*sin(b2)*cos(a1 - b1) - cos(a2)*cos(b2))**0.5\n",
    "        return (ar**2 + br**2 - 2*ar*br*(sin(a2)*sin(b2)*cos(a1 - b1) + cos(a2)*cos(b2)))**0.5\n",
    "  \n",
    "    f = requests.get(link).json()\n",
    "    F = pd.DataFrame(f['states'], columns = cols)\n",
    "    \n",
    "    rad(F,'longitude')\n",
    "    rad(F,'latitude')\n",
    "    F['altitude'] = F['geo_altitude'].apply(lambda x: x + r_earth)\n",
    "    F['euclid_dist'] = F[['altitude','r_longitude','r_latitude']].apply(euclid_polar, axis = 1)\n",
    "    F.sort_values(by=['euclid_dist'], inplace = True)\n",
    "\n",
    "    return F[keep + ['euclid_dist']].head(3)\n",
    "\n",
    "get_closest(2.2945, 48.8584)\n",
    "# get_closest(-73.7781, 40.6413)"
   ]
  },
  {
   "cell_type": "code",
   "execution_count": 100,
   "metadata": {},
   "outputs": [
    {
     "name": "stdout",
     "output_type": "stream",
     "text": [
      "Country of origin:      United Kingdom\n",
      "Callsign:               EZY45PB \n",
      "ICAO24 ID:              400dae  \n",
      "Lattitude:                             2.154\n",
      "Longitude:                            48.899\n",
      "Euclidean distance (m):            12615\n",
      "Geometric Altitude (m):             3962\n",
      "\n",
      "Country of origin:      United States\n",
      "Callsign:               TEST1234\n",
      "ICAO24 ID:              adfbde  \n",
      "Lattitude:                           -73.759\n",
      "Longitude:                            40.635\n",
      "Euclidean distance (m):             1559\n",
      "Geometric Altitude (m):             3475\n",
      "\n"
     ]
    }
   ],
   "source": [
    "import requests\n",
    "import pandas as pd\n",
    "from math import sin,cos,radians\n",
    "\n",
    "text = \"\"\"Country of origin:      {2}\n",
    "Callsign:               {1}\n",
    "ICAO24 ID:              {0}  \n",
    "Lattitude:              {3:>20.3f}\n",
    "Longitude:              {4:>20.3f}\n",
    "Euclidean distance (m): {6:>16.0f}\n",
    "Geometric Altitude (m): {5:>16.0f}\n",
    "\"\"\"\n",
    "r_earth = 6378136\n",
    "\n",
    "def euclid_polar(a1, a2, b1, b2):\n",
    "    a1, a2, b1, b2 = map(radians,[a1, a2, b1, b2])\n",
    "    return r_earth * (2*(1- sin(a2) * sin(b2) * cos(a1 - b1) - cos(a2) * cos(b2)))**0.5\n",
    "\n",
    "def find_nearest_airplane(lattitude,longitude):\n",
    "    link = r'https://opensky-network.org/api/states/all'\n",
    "    F = pd.DataFrame(requests.get(link).json()['states'])[[0, 1, 2, 5, 6, 7]]\n",
    "    \n",
    "    F[8] = F[[5,6]].apply(lambda x: euclid_polar(*x,lattitude,longitude), axis = 1)\n",
    "    F.sort_values(by=[8], inplace = True)\n",
    "    print(text.format(*list(F.iloc[0])))\n",
    "    \n",
    "find_nearest_airplane(2.2945, 48.8584)\n",
    "find_nearest_airplane(-73.7781, 40.6413)"
   ]
  },
  {
   "cell_type": "code",
   "execution_count": 20,
   "metadata": {},
   "outputs": [
    {
     "data": {
      "text/plain": [
       "'3.16'"
      ]
     },
     "execution_count": 20,
     "metadata": {},
     "output_type": "execute_result"
    }
   ],
   "source": [
    "pi = 3.1564\n",
    "f'{pi:.2f}'"
   ]
  },
  {
   "cell_type": "code",
   "execution_count": 4,
   "metadata": {},
   "outputs": [
    {
     "data": {
      "text/plain": [
       "(0.0, 0.017453292519943295, 0.03490658503988659, 0.05235987755982989)"
      ]
     },
     "execution_count": 4,
     "metadata": {},
     "output_type": "execute_result"
    }
   ],
   "source": [
    "a1, a2, b1, b2 = 0,1,2,3\n",
    "\n",
    "a1, a2, b1, b2 = map(radians,[a1, a2, b1, b2])\n",
    "\n",
    "a1, a2, b1, b2"
   ]
  },
  {
   "cell_type": "code",
   "execution_count": 93,
   "metadata": {},
   "outputs": [
    {
     "name": "stdout",
     "output_type": "stream",
     "text": [
      "EIFEL TOWER\n",
      "------------\n",
      "closest plane to  2.2945 E  48.8584 N\n",
      "Geodesic distance: 13.854824364521017\n",
      "Callsign: AFR770E \n",
      "Longitude and Lattitude: 2.3234 E 48.9797 N\n",
      "Geometric Altitude: 1021.08\n",
      "Country of origin: France\n",
      "ICAO24 ID: 393d84\n"
     ]
    }
   ],
   "source": [
    "import urllib.request, json\n",
    "from math import acos, sin, cos, radians\n",
    "with urllib.request.urlopen(\"https://opensky-network.org/api/states/all\") as url:\n",
    "    data = json.loads(url.read().decode())['states']\n",
    "\n",
    "EARTH_RAD = 6371\n",
    "def geo_dist(x, y):\n",
    "    xrad = [radians(d) for d in x]\n",
    "    yrad = [radians(d) for d in y]\n",
    "    return EARTH_RAD*acos(sin(xrad[0])*sin(yrad[0])+\n",
    "                          cos(xrad[0])*cos(yrad[0])*\n",
    "                          cos(abs(xrad[1]-yrad[1])))\n",
    "\n",
    "def get_closest(longitude,lattitude):\n",
    "    closest = data[0],10000000\n",
    "    for plane in data:\n",
    "        if None in plane[5:7]: continue\n",
    "        dist = geo_dist(plane[5:7],[longitude,lattitude])\n",
    "        if dist<closest[1]:\n",
    "            closest = plane, dist\n",
    "    print(\"closest plane to \",longitude,\"E \",lattitude,\"N\")\n",
    "    print(\"Geodesic distance:\", closest[1])\n",
    "    print(\"Callsign:\", closest[0][1])\n",
    "    print(\"Longitude and Lattitude:\", closest[0][5],\"E\", closest[0][6],\"N\")\n",
    "    print(\"Geometric Altitude:\", closest[0][7])\n",
    "    print(\"Country of origin:\", closest[0][2])\n",
    "    print(\"ICAO24 ID:\", closest[0][0])\n",
    "\n",
    "print(\"EIFEL TOWER\\n------------\")\n",
    "get_closest(2.2945,48.8584)\n"
   ]
  },
  {
   "cell_type": "code",
   "execution_count": 85,
   "metadata": {},
   "outputs": [
    {
     "ename": "AttributeError",
     "evalue": "'list' object has no attribute 'origin_country'",
     "output_type": "error",
     "traceback": [
      "\u001b[1;31m---------------------------------------------------------------------------\u001b[0m",
      "\u001b[1;31mAttributeError\u001b[0m                            Traceback (most recent call last)",
      "\u001b[1;32m<ipython-input-85-c0eda3d27748>\u001b[0m in \u001b[0;36m<module>\u001b[1;34m()\u001b[0m\n\u001b[0;32m      8\u001b[0m \u001b[0mdists_eifel\u001b[0m\u001b[1;33m,\u001b[0m \u001b[0mdists_jfk\u001b[0m \u001b[1;33m=\u001b[0m \u001b[1;33m[\u001b[0m\u001b[1;33m]\u001b[0m\u001b[1;33m,\u001b[0m \u001b[1;33m[\u001b[0m\u001b[1;33m]\u001b[0m\u001b[1;33m\u001b[0m\u001b[0m\n\u001b[0;32m      9\u001b[0m \u001b[1;32mfor\u001b[0m \u001b[0ms\u001b[0m \u001b[1;32min\u001b[0m \u001b[0mstates\u001b[0m\u001b[1;33m[\u001b[0m\u001b[1;34m'states'\u001b[0m\u001b[1;33m]\u001b[0m\u001b[1;33m:\u001b[0m\u001b[1;33m\u001b[0m\u001b[0m\n\u001b[1;32m---> 10\u001b[1;33m     \u001b[0mco\u001b[0m\u001b[1;33m,\u001b[0m \u001b[0mcs\u001b[0m\u001b[1;33m,\u001b[0m \u001b[0mic\u001b[0m\u001b[1;33m,\u001b[0m \u001b[0mga\u001b[0m \u001b[1;33m=\u001b[0m \u001b[0ms\u001b[0m\u001b[1;33m.\u001b[0m\u001b[0morigin_country\u001b[0m\u001b[1;33m,\u001b[0m \u001b[0ms\u001b[0m\u001b[1;33m.\u001b[0m\u001b[0mcallsign\u001b[0m\u001b[1;33m,\u001b[0m \u001b[0ms\u001b[0m\u001b[1;33m.\u001b[0m\u001b[0micao24\u001b[0m\u001b[1;33m,\u001b[0m \u001b[0ms\u001b[0m\u001b[1;33m.\u001b[0m\u001b[0mgeo_altitude\u001b[0m\u001b[1;33m\u001b[0m\u001b[0m\n\u001b[0m\u001b[0;32m     11\u001b[0m     \u001b[0mlatitude\u001b[0m\u001b[1;33m,\u001b[0m \u001b[0mlongitude\u001b[0m \u001b[1;33m=\u001b[0m \u001b[0ms\u001b[0m\u001b[1;33m.\u001b[0m\u001b[0mlatitude\u001b[0m\u001b[1;33m,\u001b[0m \u001b[0ms\u001b[0m\u001b[1;33m.\u001b[0m\u001b[0mlongitude\u001b[0m\u001b[1;33m\u001b[0m\u001b[0m\n\u001b[0;32m     12\u001b[0m     \u001b[1;32mif\u001b[0m \u001b[0mlatitude\u001b[0m \u001b[1;32mand\u001b[0m \u001b[0mlongitude\u001b[0m\u001b[1;33m:\u001b[0m\u001b[1;33m\u001b[0m\u001b[0m\n",
      "\u001b[1;31mAttributeError\u001b[0m: 'list' object has no attribute 'origin_country'"
     ]
    }
   ],
   "source": [
    "from scipy.spatial import distance\n",
    "\n",
    "\n",
    "EIFEL = (48.8584, 2.2945)\n",
    "JFK = (40.6413, 73.7781)\n",
    "\n",
    "states = requests.get(link).json()\n",
    "dists_eifel, dists_jfk = [], []\n",
    "for s in states['states']:\n",
    "    co, cs, ic, ga = s.origin_country, s.callsign, s.icao24, s.geo_altitude\n",
    "    latitude, longitude = s.latitude, s.longitude\n",
    "    if latitude and longitude:\n",
    "        eifel_d = distance.euclidean(EIFEL, (latitude, longitude))\n",
    "        jfk_d = distance.euclidean(JFK, (latitude, longitude))\n",
    "        dists_eifel.append((eifel_d, cs, latitude, longitude, ga, co, ic))\n",
    "        dists_jfk.append((jfk_d, cs, latitude, longitude, ga, co, ic))\n",
    "\n",
    "print(\"Closest to the Eifel Tower:\", min(dists_eifel, key=lambda f: f[0]))\n",
    "print(\"Closest to JFK:\", min(dists_jfk, key=lambda f: f[0]))"
   ]
  },
  {
   "cell_type": "code",
   "execution_count": 3,
   "metadata": {},
   "outputs": [
    {
     "name": "stdout",
     "output_type": "stream",
     "text": [
      "'goodbye' in trie:  True\n",
      "['gold', 'gerald', 'goodbye']\n",
      "['to', 'tom', 'too']\n"
     ]
    }
   ],
   "source": [
    "class Node:\n",
    "    def __init__(self, label=None, data=None):\n",
    "        self.label = label\n",
    "        self.data = data\n",
    "        self.children = dict()\n",
    "    \n",
    "    def addChild(self, key, data=None):\n",
    "        if not isinstance(key, Node):\n",
    "            self.children[key] = Node(key, data)\n",
    "        else:\n",
    "            self.children[key.label] = key\n",
    "    \n",
    "    def __getitem__(self, key):\n",
    "        return self.children[key]\n",
    "\n",
    "class Trie:\n",
    "    def __init__(self):\n",
    "        self.head = Node()\n",
    "    \n",
    "    def __getitem__(self, key):\n",
    "        return self.head.children[key]\n",
    "    \n",
    "    def add(self, word):\n",
    "        current_node = self.head\n",
    "        word_finished = True\n",
    "        \n",
    "        for i in range(len(word)):\n",
    "            if word[i] in current_node.children:\n",
    "                current_node = current_node.children[word[i]]\n",
    "            else:\n",
    "                word_finished = False\n",
    "                break\n",
    "        \n",
    "        # For ever new letter, create a new child node\n",
    "        if not word_finished:\n",
    "            while i < len(word):\n",
    "                current_node.addChild(word[i])\n",
    "                current_node = current_node.children[word[i]]\n",
    "                i += 1\n",
    "        \n",
    "        # Let's store the full word at the end node so we don't need to\n",
    "        # travel back up the tree to reconstruct the word\n",
    "        current_node.data = word\n",
    "    \n",
    "    def has_word(self, word):\n",
    "        if word == '':\n",
    "            return False\n",
    "        if word == None:\n",
    "            raise ValueError('Trie.has_word requires a not-Null string')\n",
    "        \n",
    "        # Start at the top\n",
    "        current_node = self.head\n",
    "        exists = True\n",
    "        for letter in word:\n",
    "            if letter in current_node.children:\n",
    "                current_node = current_node.children[letter]\n",
    "            else:\n",
    "                exists = False\n",
    "                break\n",
    "        \n",
    "        # Still need to check if we just reached a word like 't'\n",
    "        # that isn't actually a full word in our dictionary\n",
    "        if exists:\n",
    "            if current_node.data == None:\n",
    "                exists = False\n",
    "        \n",
    "        return exists\n",
    "    \n",
    "    def start_with_prefix(self, prefix):\n",
    "        \"\"\" Returns a list of all words in tree that start with prefix \"\"\"\n",
    "        words = list()\n",
    "        if prefix == None:\n",
    "            raise ValueError('Requires not-Null prefix')\n",
    "        \n",
    "        # Determine end-of-prefix node\n",
    "        top_node = self.head\n",
    "        for letter in prefix:\n",
    "            if letter in top_node.children:\n",
    "                top_node = top_node.children[letter]\n",
    "            else:\n",
    "                # Prefix not in tree, go no further\n",
    "                return words\n",
    "        \n",
    "        # Get words under prefix\n",
    "        if top_node == self.head:\n",
    "            queue = [node for key, node in top_node.children.iteritems()]\n",
    "        else:\n",
    "            queue = [top_node]\n",
    "        \n",
    "        # Perform a breadth first search under the prefix\n",
    "        # A cool effect of using BFS as opposed to DFS is that BFS will return\n",
    "        # a list of words ordered by increasing length\n",
    "        while queue:\n",
    "            current_node = queue.pop()\n",
    "            if current_node.data != None:\n",
    "                # Isn't it nice to not have to go back up the tree?\n",
    "                words.append(current_node.data)\n",
    "            \n",
    "            queue = [node for key,node in current_node.children.items()] + queue\n",
    "        \n",
    "        return words\n",
    "    \n",
    "    def getData(self, word):\n",
    "        \"\"\" This returns the 'data' of the node identified by the given word \"\"\"\n",
    "        if not self.has_word(word):\n",
    "            raise ValueError('{} not found in trie'.format(word))\n",
    "        \n",
    "        # Race to the bottom, get data\n",
    "        current_node = self.head\n",
    "        for letter in word:\n",
    "            current_node = current_node[letter]\n",
    "        \n",
    "        return current_node.data\n",
    "\n",
    "if __name__ == '__main__':\n",
    "    \"\"\" Example use \"\"\"\n",
    "    trie = Trie()\n",
    "    words = 'hello goodbye help gerald gold tea ted team to too tom stan standard money'\n",
    "    for word in words.split():\n",
    "        trie.add(word)\n",
    "    print( \"'goodbye' in trie: \", )\n",
    "    print(trie.start_with_prefix('g'))\n",
    "    print(trie.start_with_prefix('to'))"
   ]
  },
  {
   "cell_type": "code",
   "execution_count": 5,
   "metadata": {},
   "outputs": [
    {
     "name": "stdout",
     "output_type": "stream",
     "text": [
      "The slowest run took 4.70 times longer than the fastest. This could mean that an intermediate result is being cached.\n",
      "100000 loops, best of 3: 3.27 µs per loop\n"
     ]
    }
   ],
   "source": [
    "%timeit trie.has_word('goodbye')"
   ]
  },
  {
   "cell_type": "code",
   "execution_count": 7,
   "metadata": {},
   "outputs": [
    {
     "name": "stdout",
     "output_type": "stream",
     "text": [
      "The slowest run took 19.53 times longer than the fastest. This could mean that an intermediate result is being cached.\n",
      "10000000 loops, best of 3: 143 ns per loop\n"
     ]
    }
   ],
   "source": [
    "s = set('hello goodbye help gerald gold tea ted team to too tom stan standard money'.split(' ')) \n",
    "%timeit 'goodbye' in s"
   ]
  },
  {
   "cell_type": "code",
   "execution_count": null,
   "metadata": {
    "collapsed": true
   },
   "outputs": [],
   "source": []
  }
 ],
 "metadata": {
  "kernelspec": {
   "display_name": "Python 3",
   "language": "python",
   "name": "python3"
  },
  "language_info": {
   "codemirror_mode": {
    "name": "ipython",
    "version": 3
   },
   "file_extension": ".py",
   "mimetype": "text/x-python",
   "name": "python",
   "nbconvert_exporter": "python",
   "pygments_lexer": "ipython3",
   "version": "3.6.1"
  }
 },
 "nbformat": 4,
 "nbformat_minor": 2
}
