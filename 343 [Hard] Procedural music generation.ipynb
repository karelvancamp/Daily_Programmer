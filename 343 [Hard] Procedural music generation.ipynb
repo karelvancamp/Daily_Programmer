{
 "cells": [
  {
   "cell_type": "code",
   "execution_count": 4,
   "metadata": {
    "collapsed": true
   },
   "outputs": [],
   "source": [
    "import numpy as np\n",
    "import random\n",
    "\n"
   ]
  },
  {
   "cell_type": "code",
   "execution_count": null,
   "metadata": {
    "collapsed": true
   },
   "outputs": [],
   "source": [
    "def chromatic_tone_row():\n",
    "    random.sample(12,range(12))"
   ]
  },
  {
   "cell_type": "code",
   "execution_count": 16,
   "metadata": {},
   "outputs": [
    {
     "name": "stdout",
     "output_type": "stream",
     "text": [
      "[2, 9, 6, 11, 7, 8, 5, 3, 10, 0, 4, 1]\n",
      "[1, 4, 0, 10, 3, 5, 8, 7, 11, 6, 9, 2]\n",
      "[1, 4, 3, 5, 7, 2, 9, 10, 6, 8, 11, 12]\n",
      "[12, 11, 8, 6, 10, 9, 2, 7, 5, 3, 4, 1]\n"
     ]
    }
   ],
   "source": [
    "prime = [x for x in range(12)]\n",
    "random.shuffle(prime)\n",
    "prime\n",
    "inverse = prime[::-1]\n",
    "retrograde = [abs(x-12) for x in tone]\n",
    "retroinverse = retrograde[::-1]\n",
    "\n",
    "print(prime)\n",
    "print(inverse)\n",
    "print(retrograde)\n",
    "print(retroinverse)\n",
    "\n",
    "# [7, 11, 10, 9, 8, 5, 3, 1, 0, 6, 4, 2]\n",
    "# [6, 0, 11, 5, 4, 1, 3, 7, 9, 8, 10, 2]\n",
    "# [3, 11, 1, 4, 5, 8, 10, 0, 2, 7, 6, 9]"
   ]
  },
  {
   "cell_type": "code",
   "execution_count": 15,
   "metadata": {},
   "outputs": [
    {
     "data": {
      "text/plain": [
       "30"
      ]
     },
     "execution_count": 15,
     "metadata": {},
     "output_type": "execute_result"
    }
   ],
   "source": [
    "random.randint(0,12*6)"
   ]
  },
  {
   "cell_type": "code",
   "execution_count": null,
   "metadata": {
    "collapsed": true
   },
   "outputs": [],
   "source": []
  }
 ],
 "metadata": {
  "kernelspec": {
   "display_name": "Python 3",
   "language": "python",
   "name": "python3"
  },
  "language_info": {
   "codemirror_mode": {
    "name": "ipython",
    "version": 3
   },
   "file_extension": ".py",
   "mimetype": "text/x-python",
   "name": "python",
   "nbconvert_exporter": "python",
   "pygments_lexer": "ipython3",
   "version": "3.6.1"
  }
 },
 "nbformat": 4,
 "nbformat_minor": 2
}
