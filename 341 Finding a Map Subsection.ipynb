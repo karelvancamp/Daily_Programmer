{
 "cells": [
  {
   "cell_type": "markdown",
   "metadata": {},
   "source": [
    "# Requirements\n",
    "\n",
    "    Imagine that you're working on an application to track boats as they travel across the ocean. \n",
    "    For this application, you're given a square map with a fixed size (i.e. 2000x2000), \n",
    "    and a set of coordinates that represent the ship's path across the map. \n",
    "    You can assume the ship's path will be entirely within the bounds of the map. \n",
    "    The path can include the very edge of the map.\n",
    "    However, viewing the entire map at once means the ship's path is quite small. \n",
    "    Your task is to write an algorithm that outputs a smaller square area that contains the ship's path. \n",
    "    This smaller area will be used to display the path on a viewing terminal.\n",
    "    Your boss has asked for the following features:\n",
    "\n",
    "    The entire path must be contained within the output area.\n",
    "    The smaller area must not extend beyond the edge of the larger map.\n",
    "    Because the viewing terminal display is square, the output bounds must be square.\n",
    "    If possible, add a 30 pixel border around the path, \n",
    "    so the path doesn't go right to the edge of the screen. \n",
    "    If a point is within 30 pixels of the edge, go up to the edge.\n",
    "    \n",
    "    The path should be centered within the smaller bounds, when possible.\n",
    "    \n",
    "# Input Description\n",
    "    \n",
    "    You will be given the following pieces of information separated by a comma:\n",
    "    Size of map\n",
    "    Set of points that describe the path of the ship\n",
    "    2000, [(1000,1500),(1200, 1500),(1400,1600),(1600,1800)]\n",
    "\n",
    "# Output Description\n",
    "\n",
    "    Your program should output a bounding square that contains all of the points in the format:\n",
    "    Lower left corner coordinates (X, Y)\n",
    "    Size of bounding box\n",
    "    Example:\n",
    "    (970, 1320), 660"
   ]
  },
  {
   "cell_type": "markdown",
   "metadata": {},
   "source": [
    "# Pseudo\n",
    "\n",
    "    find centroid of shape (= mean x's an y's)\n",
    "    find point with max distance\n",
    "    max difference x and y of centroid and this point\n",
    "    this is square side // 2\n",
    "    "
   ]
  },
  {
   "cell_type": "code",
   "execution_count": 181,
   "metadata": {},
   "outputs": [
    {
     "data": {
      "text/plain": [
       "(array([ 1800.,  1800.]), 1800.0, [0.0, 0])"
      ]
     },
     "execution_count": 181,
     "metadata": {},
     "output_type": "execute_result"
    }
   ],
   "source": [
    "import numpy as np\n",
    "from itertools import product\n",
    "import itertools\n",
    "\n",
    "\n",
    "def square(size,square_size,an_array):\n",
    "    for ix,x in enumerate(an_array):\n",
    "        if x - square_size < 0: \n",
    "            an_array[ix] = square_size \n",
    "        elif x + square_size > size: \n",
    "            an_array[ix] = size - square_size\n",
    "    return an_array\n",
    "\n",
    "def inside(point,size):\n",
    "    return (0 <= point[0] <= size and 0 <= point[1] <= size)\n",
    "\n",
    "def margin(x,center,square_size,size):\n",
    "    down = center[x] - square_size\n",
    "    up = center[x] + square_size\n",
    "\n",
    "    margins = []\n",
    "    \n",
    "    if down >= 0:\n",
    "        if down >= 30:\n",
    "            margins.append(30)\n",
    "        else:\n",
    "            margins.append(down)\n",
    "    else:\n",
    "        margins.append(0)\n",
    "    if up <= size:\n",
    "        if up >= 30:\n",
    "            margins.append(30)\n",
    "        else:\n",
    "            margins.append(up)\n",
    "    else:\n",
    "        margins.append(0)\n",
    "    return margins\n",
    "\n",
    "def map_subsection(size,nodes):\n",
    "\n",
    "    path = np.array(nodes)\n",
    "    \n",
    "    assert not any(path[(path<0)|(path>size)]),\"At least one of the points lies outside of the map\"\n",
    "\n",
    "    centroid = np.mean(path, axis=0)\n",
    "    square_size = np.amax(abs(path - centroid))*2\n",
    "    center = square(size,square_size,centroid)\n",
    "\n",
    "    \n",
    "    \n",
    "    return center, square_size,margin(0,center,square_size,size)\n",
    "\n",
    "map_subsection(2000, [(0, 200), (0, 2000)])"
   ]
  },
  {
   "cell_type": "code",
   "execution_count": 173,
   "metadata": {},
   "outputs": [
    {
     "name": "stdout",
     "output_type": "stream",
     "text": [
      "(-1, 0)\n",
      "(0, -1)\n",
      "(0, 1)\n",
      "(1, 0)\n"
     ]
    }
   ],
   "source": [
    "for x in itertools.permutations(range(-1,2),2):\n",
    "    if sum(x):\n",
    "        print(x)"
   ]
  },
  {
   "cell_type": "code",
   "execution_count": null,
   "metadata": {
    "collapsed": true
   },
   "outputs": [],
   "source": [
    "import numpy as np\n",
    "from itertools import product\n",
    "import itertools\n",
    "\n",
    "def map_subsection(size,nodes):\n",
    "\n",
    "    path = np.array(nodes)\n",
    "    \n",
    "    assert not any(path[(path<0)|(path>size)]),\"At least one of the points lies outside of the map\"\n",
    "\n",
    "    centroid = np.mean(path, axis=0)\n",
    "    square_size = np.amax(abs(path - centroid))\n",
    "        \n",
    "    return \n",
    "\n",
    "map_subsection(2000, [(0, 200), (0, 400)])"
   ]
  }
 ],
 "metadata": {
  "kernelspec": {
   "display_name": "Python 3",
   "language": "python",
   "name": "python3"
  },
  "language_info": {
   "codemirror_mode": {
    "name": "ipython",
    "version": 3
   },
   "file_extension": ".py",
   "mimetype": "text/x-python",
   "name": "python",
   "nbconvert_exporter": "python",
   "pygments_lexer": "ipython3",
   "version": "3.6.1"
  }
 },
 "nbformat": 4,
 "nbformat_minor": 2
}
